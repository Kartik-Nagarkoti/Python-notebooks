{
 "cells": [
  {
   "cell_type": "code",
   "execution_count": 4,
   "id": "858e8b82-b1ca-4181-a310-7776f9670e99",
   "metadata": {},
   "outputs": [
    {
     "data": {
      "text/plain": [
       "'hello'"
      ]
     },
     "execution_count": 4,
     "metadata": {},
     "output_type": "execute_result"
    }
   ],
   "source": [
    "#lower\n",
    "\"Hello\".lower()"
   ]
  },
  {
   "cell_type": "code",
   "execution_count": 6,
   "id": "a177289e-55d1-40b4-834e-eaafad9eb7f1",
   "metadata": {},
   "outputs": [
    {
     "data": {
      "text/plain": [
       "'HELLO'"
      ]
     },
     "execution_count": 6,
     "metadata": {},
     "output_type": "execute_result"
    }
   ],
   "source": [
    "#upper\n",
    "\"hello\".upper()"
   ]
  },
  {
   "cell_type": "code",
   "execution_count": 8,
   "id": "55f489fd-c9ae-45b5-8715-0d3bb7bd6684",
   "metadata": {},
   "outputs": [
    {
     "data": {
      "text/plain": [
       "'Hello kartik nagarkoti'"
      ]
     },
     "execution_count": 8,
     "metadata": {},
     "output_type": "execute_result"
    }
   ],
   "source": [
    "#capitalize- to capitalize just first letter of string\n",
    "\"hello kartik nagarkoti\".capitalize()"
   ]
  },
  {
   "cell_type": "code",
   "execution_count": 10,
   "id": "0f6b080d-7e35-4bfc-b447-e011a3669bc2",
   "metadata": {},
   "outputs": [
    {
     "data": {
      "text/plain": [
       "'Hello Kartik Nagarkoti'"
      ]
     },
     "execution_count": 10,
     "metadata": {},
     "output_type": "execute_result"
    }
   ],
   "source": [
    "#title- to capitalize letters of string\n",
    "\"hello kartik nagarkoti\".title()"
   ]
  },
  {
   "cell_type": "code",
   "execution_count": 16,
   "id": "0da55e49-6958-4f90-8f53-a41862b92e76",
   "metadata": {},
   "outputs": [
    {
     "data": {
      "text/plain": [
       "'hello kartik'"
      ]
     },
     "execution_count": 16,
     "metadata": {},
     "output_type": "execute_result"
    }
   ],
   "source": [
    "#strip- removes leading and tailing space (just 1 space before and end of whole string) \n",
    "\" hello kartik \".strip()"
   ]
  },
  {
   "cell_type": "code",
   "execution_count": 22,
   "id": "b672cf4d-7132-4221-a3e3-e0fa8d503d08",
   "metadata": {},
   "outputs": [
    {
     "name": "stdout",
     "output_type": "stream",
     "text": [
      "hello \n",
      " hello\n"
     ]
    }
   ],
   "source": [
    "#lsrip/rstrip remove leading/rear space\n",
    "print(\" hello \".lstrip())\n",
    "print(\" hello \".rstrip())"
   ]
  },
  {
   "cell_type": "code",
   "execution_count": 30,
   "id": "f5e1243a-fbd3-47c0-a5a4-dfae60e2bb0d",
   "metadata": {},
   "outputs": [
    {
     "data": {
      "text/plain": [
       "37"
      ]
     },
     "execution_count": 30,
     "metadata": {},
     "output_type": "execute_result"
    }
   ],
   "source": [
    "#find-find first occurance of substring\n",
    "\"hello kartik. i am d .I hope you are doing good.\".find(\"doing\")"
   ]
  },
  {
   "cell_type": "code",
   "execution_count": 32,
   "id": "ad3d8523-c989-4577-84b2-c0efa9b04a28",
   "metadata": {},
   "outputs": [
    {
     "data": {
      "text/plain": [
       "-1"
      ]
     },
     "execution_count": 32,
     "metadata": {},
     "output_type": "execute_result"
    }
   ],
   "source": [
    "\"hello kartik. i am d .I hope you are doing good.\".find(\"z\")"
   ]
  },
  {
   "cell_type": "code",
   "execution_count": 34,
   "id": "f9897c5c-20e0-42ba-9548-73a9e2f047d7",
   "metadata": {},
   "outputs": [
    {
     "data": {
      "text/plain": [
       "'kartik hello kartik'"
      ]
     },
     "execution_count": 34,
     "metadata": {},
     "output_type": "execute_result"
    }
   ],
   "source": [
    "#replace\n",
    "\"world hello world\".replace(\"world\",\"kartik\")"
   ]
  },
  {
   "cell_type": "code",
   "execution_count": 36,
   "id": "e895b02d-ac07-42d1-a828-1555ef0d37c5",
   "metadata": {},
   "outputs": [
    {
     "data": {
      "text/plain": [
       "True"
      ]
     },
     "execution_count": 36,
     "metadata": {},
     "output_type": "execute_result"
    }
   ],
   "source": [
    "#startswith\n",
    "\"hello world\".startswith(\"he\")"
   ]
  },
  {
   "cell_type": "code",
   "execution_count": 46,
   "id": "d058c180-5173-4c25-8dd7-b16e5e86804f",
   "metadata": {},
   "outputs": [
    {
     "data": {
      "text/plain": [
       "True"
      ]
     },
     "execution_count": 46,
     "metadata": {},
     "output_type": "execute_result"
    }
   ],
   "source": [
    "#endswith\n",
    "\"hello world\".endswith(\"world\")"
   ]
  },
  {
   "cell_type": "code",
   "execution_count": 64,
   "id": "165af02b-298f-4377-9c3c-acced1b1d94f",
   "metadata": {},
   "outputs": [
    {
     "data": {
      "text/plain": [
       "['a', 'b', 'c']"
      ]
     },
     "execution_count": 64,
     "metadata": {},
     "output_type": "execute_result"
    }
   ],
   "source": [
    "#split\n",
    "\"a:b:c\".split(\":\")"
   ]
  },
  {
   "cell_type": "code",
   "execution_count": 60,
   "id": "963c3618-41e2-4330-a01e-a4f875e32e00",
   "metadata": {},
   "outputs": [
    {
     "data": {
      "text/plain": [
       "['a', 'b', 'c']"
      ]
     },
     "execution_count": 60,
     "metadata": {},
     "output_type": "execute_result"
    }
   ],
   "source": [
    "\"a b      c\".split()#ignoes spaces"
   ]
  },
  {
   "cell_type": "code",
   "execution_count": 72,
   "id": "3fccf596-772d-4e61-98a1-fa5c74cbba04",
   "metadata": {},
   "outputs": [
    {
     "data": {
      "text/plain": [
       "['a', '', 'b', '', '', '', 'c']"
      ]
     },
     "execution_count": 72,
     "metadata": {},
     "output_type": "execute_result"
    }
   ],
   "source": [
    "\"a,,b,,,,c\".split(',')#print empty space between ,,"
   ]
  },
  {
   "cell_type": "code",
   "execution_count": 78,
   "id": "add0793b-1ea6-4ff8-89a6-c7109653a8e3",
   "metadata": {},
   "outputs": [
    {
     "data": {
      "text/plain": [
       "['Hello', 'How are you?', \"I hope you're doing well.\"]"
      ]
     },
     "execution_count": 78,
     "metadata": {},
     "output_type": "execute_result"
    }
   ],
   "source": [
    "#splitlines\n",
    "\"\"\"Hello\n",
    "How are you?\n",
    "I hope you're doing well.\"\"\".splitlines()\n"
   ]
  },
  {
   "cell_type": "code",
   "execution_count": 82,
   "id": "5f7266b1-6d5e-4868-ac91-202407e922bb",
   "metadata": {},
   "outputs": [
    {
     "name": "stdout",
     "output_type": "stream",
     "text": [
      "a b c\n"
     ]
    }
   ],
   "source": [
    "#join\n",
    "a=['a','b','c']\n",
    "print(' '.join(a))\n",
    "#joined 'a','b','c' with space"
   ]
  },
  {
   "cell_type": "code",
   "execution_count": 110,
   "id": "4a1950bf-d4b9-4a8f-a8e0-2bee78471fd7",
   "metadata": {},
   "outputs": [
    {
     "name": "stdout",
     "output_type": "stream",
     "text": [
      "a-b-c\n"
     ]
    }
   ],
   "source": [
    "a=['a','b','c']\n",
    "print('-'.join(a))"
   ]
  },
  {
   "cell_type": "code",
   "execution_count": 86,
   "id": "d6f41840-15b8-4329-9526-2ac3a7f1d708",
   "metadata": {},
   "outputs": [
    {
     "name": "stdout",
     "output_type": "stream",
     "text": [
      "True\n",
      "False\n"
     ]
    }
   ],
   "source": [
    "#isalpha-check if all elements of string are alphabet\n",
    "print(\"kartik\".isalpha())\n",
    "print(\"kartik07\".isalpha())"
   ]
  },
  {
   "cell_type": "code",
   "execution_count": 90,
   "id": "4d0d0891-4426-43f2-8c90-6b41a380cea6",
   "metadata": {},
   "outputs": [
    {
     "name": "stdout",
     "output_type": "stream",
     "text": [
      "True\n",
      "False\n"
     ]
    }
   ],
   "source": [
    "#isdigit\n",
    "print(\"00707\".isdigit())\n",
    "print(\"07kartik07\".isdigit())"
   ]
  },
  {
   "cell_type": "code",
   "execution_count": 98,
   "id": "20c2ca86-d623-43a4-bc1e-330cf377c298",
   "metadata": {},
   "outputs": [
    {
     "name": "stdout",
     "output_type": "stream",
     "text": [
      "True\n",
      "True\n",
      "True\n",
      "False\n"
     ]
    }
   ],
   "source": [
    "#isalnum-check for alphanumeric\n",
    "print(\"00707\".isalnum())\n",
    "print(\"07kartik07\".isalnum())\n",
    "print(\"kartik\".isalnum())\n",
    "print(\"00707=\".isalnum())"
   ]
  },
  {
   "cell_type": "code",
   "execution_count": 108,
   "id": "fe8f7679-a5a9-479e-9a5b-06036879adce",
   "metadata": {},
   "outputs": [
    {
     "name": "stdout",
     "output_type": "stream",
     "text": [
      "False\n",
      "False\n",
      "False\n",
      "True\n",
      "False\n",
      "True\n"
     ]
    }
   ],
   "source": [
    "#islower/ isupper\n",
    "print(\"00707\".isupper())\n",
    "print(\"07kartik07\".isupper())\n",
    "print(\"00707\".islower())\n",
    "print(\"07kartik07\".islower())\n",
    "print(\"Kartik\".islower())\n",
    "print(\"KARTIK08\".isupper())"
   ]
  },
  {
   "cell_type": "raw",
   "id": "f858b66f-7dfa-4db7-bc59-e412fc856ee9",
   "metadata": {},
   "source": [
    "string=\"marks for maths is 99\" , now u have to extract subject and marks only"
   ]
  },
  {
   "cell_type": "code",
   "execution_count": 114,
   "id": "fc16142e-7405-474a-ab63-e4837413dc8e",
   "metadata": {},
   "outputs": [
    {
     "data": {
      "text/plain": [
       "['marks', 'for', 'maths', 'is', '99']"
      ]
     },
     "execution_count": 114,
     "metadata": {},
     "output_type": "execute_result"
    }
   ],
   "source": [
    "string=\"marks for maths is 99\"\n",
    "string.split()"
   ]
  },
  {
   "cell_type": "code",
   "execution_count": 118,
   "id": "4dbe5ce4-6163-4104-b9c4-1ec137126936",
   "metadata": {},
   "outputs": [
    {
     "data": {
      "text/plain": [
       "'maths'"
      ]
     },
     "execution_count": 118,
     "metadata": {},
     "output_type": "execute_result"
    }
   ],
   "source": [
    "string.split()[2]"
   ]
  },
  {
   "cell_type": "code",
   "execution_count": 120,
   "id": "b9935390-9cf0-4f97-8022-ec3a175bc321",
   "metadata": {},
   "outputs": [
    {
     "data": {
      "text/plain": [
       "'99'"
      ]
     },
     "execution_count": 120,
     "metadata": {},
     "output_type": "execute_result"
    }
   ],
   "source": [
    "string.split()[-1]"
   ]
  },
  {
   "cell_type": "code",
   "execution_count": 126,
   "id": "6806abf7-7581-4a65-b0b1-792b86ce67e8",
   "metadata": {},
   "outputs": [
    {
     "data": {
      "text/plain": [
       "'this,is,clean'"
      ]
     },
     "execution_count": 126,
     "metadata": {},
     "output_type": "execute_result"
    }
   ],
   "source": [
    "s=\"this     is   clean\" \n",
    "''.join(s.split())"
   ]
  },
  {
   "cell_type": "code",
   "execution_count": null,
   "id": "a9dfd070-f166-410b-9710-25a1e077aba3",
   "metadata": {},
   "outputs": [],
   "source": []
  }
 ],
 "metadata": {
  "kernelspec": {
   "display_name": "Python [conda env:base] *",
   "language": "python",
   "name": "conda-base-py"
  },
  "language_info": {
   "codemirror_mode": {
    "name": "ipython",
    "version": 3
   },
   "file_extension": ".py",
   "mimetype": "text/x-python",
   "name": "python",
   "nbconvert_exporter": "python",
   "pygments_lexer": "ipython3",
   "version": "3.12.7"
  }
 },
 "nbformat": 4,
 "nbformat_minor": 5
}
