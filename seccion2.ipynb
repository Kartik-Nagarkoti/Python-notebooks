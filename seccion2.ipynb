{
 "cells": [
  {
   "cell_type": "raw",
   "id": "b1264d84-4bad-4c1f-9f9a-29ad8544ccd9",
   "metadata": {},
   "source": [
    "Take Input(length & breadth) from the user and print the area of the rectangle."
   ]
  },
  {
   "cell_type": "code",
   "execution_count": 9,
   "id": "4988ffd7-7e55-4bc8-b95e-4956d853e994",
   "metadata": {},
   "outputs": [
    {
     "name": "stdin",
     "output_type": "stream",
     "text": [
      "enter lenght 3\n",
      "enter breadth 4\n"
     ]
    },
    {
     "name": "stdout",
     "output_type": "stream",
     "text": [
      "Area= 12.0\n"
     ]
    }
   ],
   "source": [
    "l=float(input(\"enter lenght\"))\n",
    "b=float(input(\"enter breadth\"))\n",
    "area =l*b\n",
    "print(f\"Area= {area}\")"
   ]
  },
  {
   "cell_type": "raw",
   "id": "6ed8a2e3-dc2f-4e0c-8091-e02c104850fa",
   "metadata": {},
   "source": [
    "An employee wants to count the total experience in years  he has by itself, to help him find his experience in the number of months and days (assuming each month is  of 30 days). \n",
    "             Eg - Number of days =98 , \n",
    "             Experience = 3 months and 8 days.\n"
   ]
  },
  {
   "cell_type": "code",
   "execution_count": 17,
   "id": "ec4e7a8a-4610-4f2c-b224-4b21afe28a3f",
   "metadata": {},
   "outputs": [
    {
     "name": "stdin",
     "output_type": "stream",
     "text": [
      "enter number of days 127\n"
     ]
    },
    {
     "name": "stdout",
     "output_type": "stream",
     "text": [
      "Experience = 4 months and 7 days.\n"
     ]
    }
   ],
   "source": [
    "td=int(input(\"enter number of days\"))\n",
    "months=td//30\n",
    "days=td%30\n",
    "print(f\"Experience = {months} months and {days} days.\")\n"
   ]
  },
  {
   "cell_type": "raw",
   "id": "f50386de-da9b-4de3-bc72-e3d1dfa93716",
   "metadata": {},
   "source": [
    "Enter a number and find its square root."
   ]
  },
  {
   "cell_type": "code",
   "execution_count": 25,
   "id": "9c22d64d-3a31-4ce8-8234-b712ca835415",
   "metadata": {},
   "outputs": [
    {
     "name": "stdin",
     "output_type": "stream",
     "text": [
      "enter a number 4\n"
     ]
    },
    {
     "name": "stdout",
     "output_type": "stream",
     "text": [
      "square root = 2.0 \n",
      " 2.0\n"
     ]
    }
   ],
   "source": [
    "a=float(input(\"enter a number\"))\n",
    "b=a**0.5\n",
    "#ALTERNATE\n",
    "c=pow(a,0.5)\n",
    "print(f\"square root = {b} \\n {c}\")\n"
   ]
  },
  {
   "cell_type": "raw",
   "id": "fd84db1a-6918-4a55-9dfe-5d52b499b10b",
   "metadata": {},
   "source": [
    "Ask User for two numbers and raise one to the power of another"
   ]
  },
  {
   "cell_type": "code",
   "execution_count": 33,
   "id": "b3038daa-d607-451f-b14b-b9246eef9b4e",
   "metadata": {},
   "outputs": [
    {
     "name": "stdin",
     "output_type": "stream",
     "text": [
      "enter first number 5\n",
      "enter secomd number that will become power of previous number 2\n"
     ]
    },
    {
     "name": "stdout",
     "output_type": "stream",
     "text": [
      "the answer is 25.0\n"
     ]
    }
   ],
   "source": [
    "a=float(input(\"enter first number\"))\n",
    "b=float(input(\"enter secomd number that will become power of previous number\"))\n",
    "c=a**b\n",
    "print(f\"the answer is {c}\")"
   ]
  },
  {
   "cell_type": "raw",
   "id": "1d1df3fe-73fb-4f08-9fbb-a6b4daedd5ad",
   "metadata": {},
   "source": [
    "Ask the user to enter the time in seconds and convert it into hours, minutes, and seconds.*"
   ]
  },
  {
   "cell_type": "code",
   "execution_count": 39,
   "id": "67c12504-c30c-493d-bdc0-5885d4dc9b34",
   "metadata": {},
   "outputs": [
    {
     "name": "stdin",
     "output_type": "stream",
     "text": [
      "enter time in seconds 3783\n"
     ]
    },
    {
     "name": "stdout",
     "output_type": "stream",
     "text": [
      "time = 1 hours , 3 minutes , 3 seconds\n"
     ]
    }
   ],
   "source": [
    "t=int(input(\"enter time in seconds\"))\n",
    "hours=t//3600\n",
    "r1=t%3600\n",
    "minutes=r1//60\n",
    "sec=minutes%60\n",
    "print(f\"time = {hours} hours , {minutes} minutes , {sec} seconds\")"
   ]
  },
  {
   "cell_type": "raw",
   "id": "6c7b59a2-62a8-4e0e-82d2-b6cf718e451e",
   "metadata": {},
   "source": [
    "Input the principal, rate of interest, and time in years, then calculate and print the simple interest.\n"
   ]
  },
  {
   "cell_type": "code",
   "execution_count": 43,
   "id": "b69ef6c0-8ecf-420a-81f1-eb82b1802c25",
   "metadata": {},
   "outputs": [
    {
     "name": "stdin",
     "output_type": "stream",
     "text": [
      "enter principal amount 1000\n",
      "enter rate of interest per annum 10\n",
      "enter years for which interest is to be calculated for 3\n"
     ]
    },
    {
     "name": "stdout",
     "output_type": "stream",
     "text": [
      "SI = 300.0\n"
     ]
    }
   ],
   "source": [
    "p=float(input(\"enter principal amount\"))\n",
    "r=float(input(\"enter rate of interest per annum\"))\n",
    "t=float(input(\"enter years for which interest is to be calculated for\"))\n",
    "si=(p*r*t)/100\n",
    "print(f\"SI = {si}\")\n"
   ]
  },
  {
   "cell_type": "markdown",
   "id": "0572c69f-d66f-4dc2-82e9-655be61a2908",
   "metadata": {},
   "source": [
    " # TUPLE"
   ]
  },
  {
   "cell_type": "code",
   "execution_count": 93,
   "id": "d07cc19f-ac39-487e-a192-b70fadc07eda",
   "metadata": {},
   "outputs": [],
   "source": [
    "a=[1,2,3,4,5,\"kartik\",6,7,8,9,10]"
   ]
  },
  {
   "cell_type": "code",
   "execution_count": 95,
   "id": "936b8214-693a-47f0-a5aa-1ec0003f6ac8",
   "metadata": {},
   "outputs": [
    {
     "name": "stdout",
     "output_type": "stream",
     "text": [
      "[1, 2, 3, 4, 5, 'kartik', 6, 7, 8, 9, 10]\n",
      "2513389293568\n"
     ]
    }
   ],
   "source": [
    "print(a)\n",
    "print (id(a))"
   ]
  },
  {
   "cell_type": "code",
   "execution_count": 97,
   "id": "551f5d23-41b8-4b42-8850-74c891f914c6",
   "metadata": {},
   "outputs": [
    {
     "name": "stdout",
     "output_type": "stream",
     "text": [
      "4\n"
     ]
    }
   ],
   "source": [
    "print(a[3])  #print particular element"
   ]
  },
  {
   "cell_type": "code",
   "execution_count": 99,
   "id": "26c80a64-946c-498e-b79d-86138a1bd852",
   "metadata": {},
   "outputs": [
    {
     "name": "stdout",
     "output_type": "stream",
     "text": [
      "[3, 4, 5, 'kartik']\n",
      "[4, 5, 'kartik', 6, 7]\n",
      "[1, 2, 3, 4, 5, 'kartik']\n",
      "2513389293568\n"
     ]
    }
   ],
   "source": [
    "#slicing\n",
    "print(a[2:6])\n",
    "print (a[3:8])\n",
    "print(a[:6])\n",
    "print (id(a))\n"
   ]
  },
  {
   "cell_type": "code",
   "execution_count": 101,
   "id": "bdb4a3ce-14de-4122-84ea-3d9c929617ac",
   "metadata": {},
   "outputs": [
    {
     "name": "stdout",
     "output_type": "stream",
     "text": [
      "[1, 2, 3, 4, 5, 'nagarkoti', 6, 7, 8, 9, 10]\n"
     ]
    }
   ],
   "source": [
    "a[5]=\"nagarkoti\"  #replace element\n",
    "print (a)"
   ]
  },
  {
   "cell_type": "code",
   "execution_count": 103,
   "id": "571e0ea1-6c09-40a2-ba4c-8cb2dca7b3ad",
   "metadata": {},
   "outputs": [
    {
     "name": "stdout",
     "output_type": "stream",
     "text": [
      "[1, 2, 3, 4, 5, 'kartik', 'nagarkoti', 6, 7, 8, 9, 10]\n"
     ]
    }
   ],
   "source": [
    "#insert at particular palce\n",
    "a.insert(5,\"kartik\")\n",
    "print(a)"
   ]
  },
  {
   "cell_type": "code",
   "execution_count": 105,
   "id": "6a6fa476-7cda-483c-b868-aad9b8aec2db",
   "metadata": {},
   "outputs": [
    {
     "name": "stdout",
     "output_type": "stream",
     "text": [
      "[1, 2, 3, 4, 5, 'kartik', 'nagarkoti', 6, 7, 8, 9, 10, 'end']\n"
     ]
    }
   ],
   "source": [
    "#append (add at last)\n",
    "a.append(\"end\")\n",
    "print(a)"
   ]
  },
  {
   "cell_type": "code",
   "execution_count": 107,
   "id": "4e0d5fd6-7fb1-416d-a108-19c2eb35e1c7",
   "metadata": {},
   "outputs": [
    {
     "name": "stdout",
     "output_type": "stream",
     "text": [
      "[1, 2, 3, 4, 5, 'nagarkoti', 6, 7, 8, 9, 10, 'end']\n"
     ]
    }
   ],
   "source": [
    "#remove element by name\n",
    "a.remove(\"kartik\")\n",
    "print (a)"
   ]
  },
  {
   "cell_type": "code",
   "execution_count": 109,
   "id": "30f7322e-fec6-43ef-a7fd-5ef16ca5ab81",
   "metadata": {},
   "outputs": [
    {
     "name": "stdout",
     "output_type": "stream",
     "text": [
      "[1, 2, 4, 5, 'nagarkoti', 6, 7, 8, 9, 10, 'end']\n"
     ]
    }
   ],
   "source": [
    "#remove by index number\n",
    "a.pop(2)\n",
    "print (a)\n"
   ]
  },
  {
   "cell_type": "code",
   "execution_count": 117,
   "id": "dadacc60-b2fa-4933-85c5-c20967a98054",
   "metadata": {},
   "outputs": [
    {
     "name": "stdout",
     "output_type": "stream",
     "text": [
      "[2, 3, 5, 8, 21, 34, 54]\n",
      "[54, 34, 21, 8, 5, 3, 2]\n"
     ]
    }
   ],
   "source": [
    "#sort assending\n",
    "a=[3,5,2,8,34,21,54]\n",
    "a.sort()\n",
    "print(a)\n",
    "#decending\n",
    "a.sort(reverse = True)\n",
    "print(a)"
   ]
  },
  {
   "cell_type": "code",
   "execution_count": 119,
   "id": "64d2baff-864a-4143-a2bd-f42c40336f62",
   "metadata": {},
   "outputs": [],
   "source": [
    "#note: for sorting datatype in list should be same like only numbers or only strings"
   ]
  },
  {
   "cell_type": "markdown",
   "id": "1104edf9-f16e-4f43-9e0c-3151a5c82af2",
   "metadata": {},
   "source": [
    "# DICTIONARY"
   ]
  },
  {
   "cell_type": "code",
   "execution_count": 9,
   "id": "4750e116-54e4-4178-ae6e-9f5f35c9963e",
   "metadata": {},
   "outputs": [
    {
     "name": "stdout",
     "output_type": "stream",
     "text": [
      "{'roll': [1, 2, 3, 4], 'name': ['a', 'b', 'c', 'd'], 'sub': ['x', 'y', 'z']}\n"
     ]
    }
   ],
   "source": [
    "var={ \"roll\":[1,2,3,4],\"name\":[\"a\",\"b\",\"c\",\"d\"], \"sub\":[\"x\",\"y\",'z']}\n",
    "print(var)"
   ]
  },
  {
   "cell_type": "code",
   "execution_count": 7,
   "id": "bb813d4c-b210-4ecc-b3c2-2b7bba165b97",
   "metadata": {},
   "outputs": [
    {
     "name": "stdout",
     "output_type": "stream",
     "text": [
      "{'roll': [4, 5, 6]}\n"
     ]
    }
   ],
   "source": [
    "var1={ \"roll\":[1,2,3,4], \"roll\":[4,5,6]}\n",
    "print(var1)"
   ]
  },
  {
   "cell_type": "code",
   "execution_count": 19,
   "id": "ed074cf1-722f-49c6-8e65-933c155a16ae",
   "metadata": {},
   "outputs": [
    {
     "name": "stdout",
     "output_type": "stream",
     "text": [
      "[1, 2, 3, 4]\n"
     ]
    }
   ],
   "source": [
    "print(var[\"roll\"])#called by key"
   ]
  },
  {
   "cell_type": "code",
   "execution_count": 31,
   "id": "90a5304a-897c-4f8f-8e04-85ee9df5ad2c",
   "metadata": {},
   "outputs": [
    {
     "name": "stdout",
     "output_type": "stream",
     "text": [
      "{'roll': [1, 2, 3, 4], 'name': ['a', 'b', 'c', 'd'], 'sub': ['x', 'y', 'z', 'p']}\n"
     ]
    }
   ],
   "source": [
    "#can perform all commands of list\n",
    "var[\"sub\"].append(\"p\")\n",
    "print (var)"
   ]
  },
  {
   "cell_type": "code",
   "execution_count": 11,
   "id": "ab2dea01-3c0b-49a6-b5aa-1e88b23539c8",
   "metadata": {},
   "outputs": [
    {
     "name": "stdout",
     "output_type": "stream",
     "text": [
      "{'roll': [1, 2, 3, 4], 'name': ['a', 'b', 'c', 'd'], 'sub': ['x', 'y', 'z'], 'city': ['g', 'h', 'i', 'j'], 'dob': []}\n"
     ]
    }
   ],
   "source": [
    "var.update({\"city\":[\"g\",'h','i','j'],\"dob\":[]})\n",
    "print(var)"
   ]
  },
  {
   "cell_type": "code",
   "execution_count": 13,
   "id": "2b4fa8d2-e9f1-4695-8d82-f939bf6599a6",
   "metadata": {},
   "outputs": [
    {
     "name": "stdout",
     "output_type": "stream",
     "text": [
      "{'roll': [1, 2, 3, 4], 'name': ['a', 'b', 'c', 'd'], 'sub': ['x', 'y', 'z'], 'city': ['g', 'h', 'i', 'j']}\n"
     ]
    }
   ],
   "source": [
    "#DELETE PARTICULAR KEY\n",
    "del var[\"dob\"]\n",
    "print(var)"
   ]
  },
  {
   "cell_type": "code",
   "execution_count": 3,
   "id": "c09fa829-54df-4747-89d9-5343139bee3f",
   "metadata": {},
   "outputs": [
    {
     "name": "stdout",
     "output_type": "stream",
     "text": [
      "{'roll': [4, 5, 6]}\n"
     ]
    },
    {
     "ename": "NameError",
     "evalue": "name 'var2' is not defined",
     "output_type": "error",
     "traceback": [
      "\u001b[1;31m---------------------------------------------------------------------------\u001b[0m",
      "\u001b[1;31mNameError\u001b[0m                                 Traceback (most recent call last)",
      "Cell \u001b[1;32mIn[3], line 5\u001b[0m\n\u001b[0;32m      3\u001b[0m \u001b[38;5;28mprint\u001b[39m(var2)\n\u001b[0;32m      4\u001b[0m \u001b[38;5;28;01mdel\u001b[39;00m var2 \u001b[38;5;66;03m#whole var is deleted\u001b[39;00m\n\u001b[1;32m----> 5\u001b[0m \u001b[38;5;28mprint\u001b[39m(var2)\n",
      "\u001b[1;31mNameError\u001b[0m: name 'var2' is not defined"
     ]
    }
   ],
   "source": [
    "#delete dictionary\n",
    "var2={\"roll\":[4,5,6]}\n",
    "print(var2)\n",
    "del var2 #whole var is deleted\n",
    "print(var2)"
   ]
  },
  {
   "cell_type": "code",
   "execution_count": 3,
   "id": "2796be50-ea6c-486b-b9df-1ac4a7b0d8c5",
   "metadata": {},
   "outputs": [
    {
     "name": "stdin",
     "output_type": "stream",
     "text": [
      "enter no. of students 3\n",
      "enter no. of days 2\n",
      "enter student name jj\n",
      "enter student name iikk\n",
      "enter student name jj\n"
     ]
    },
    {
     "name": "stdout",
     "output_type": "stream",
     "text": [
      "enter attendence : a for absent and p for present\n"
     ]
    },
    {
     "name": "stdin",
     "output_type": "stream",
     "text": [
      "enter attendence for jj p p p\\\n"
     ]
    },
    {
     "name": "stdout",
     "output_type": "stream",
     "text": [
      "enter 2 days attendence\n"
     ]
    },
    {
     "name": "stdin",
     "output_type": "stream",
     "text": [
      "enter attendence for jj p p\n",
      "enter attendence for iikk p p\n"
     ]
    },
    {
     "name": "stdout",
     "output_type": "stream",
     "text": [
      "{'jj': ['P', 'P'], 'iikk': ['P', 'P']}\n"
     ]
    }
   ],
   "source": [
    "stu=int(input('enter no. of students'))\n",
    "days=int(input('enter no. of days'))\n",
    "students={}\n",
    "for i in range(stu):\n",
    "    name=input('enter student name')\n",
    "    students[name]=[]\n",
    "print(\"enter attendence : a for absent and p for present\")\n",
    "for i in students:\n",
    "    while True:\n",
    "        attendence=input(f'enter attendence for {i}').upper()\n",
    "        if (len(attendence.split())==days):\n",
    "            students[i]=attendence.split()\n",
    "            break\n",
    "        else:\n",
    "            print(f'enter {days} days attendence')\n",
    "print(students)  "
   ]
  },
  {
   "cell_type": "code",
   "execution_count": null,
   "id": "7d6150d9-1118-450d-9660-e0165899decc",
   "metadata": {},
   "outputs": [],
   "source": []
  }
 ],
 "metadata": {
  "kernelspec": {
   "display_name": "Python [conda env:base] *",
   "language": "python",
   "name": "conda-base-py"
  },
  "language_info": {
   "codemirror_mode": {
    "name": "ipython",
    "version": 3
   },
   "file_extension": ".py",
   "mimetype": "text/x-python",
   "name": "python",
   "nbconvert_exporter": "python",
   "pygments_lexer": "ipython3",
   "version": "3.12.7"
  }
 },
 "nbformat": 4,
 "nbformat_minor": 5
}
