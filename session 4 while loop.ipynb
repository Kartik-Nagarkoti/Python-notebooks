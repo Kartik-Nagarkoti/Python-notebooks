{
 "cells": [
  {
   "cell_type": "markdown",
   "id": "c07be401-f664-491e-bff1-7f5086a30559",
   "metadata": {},
   "source": [
    "# loop\n"
   ]
  },
  {
   "cell_type": "markdown",
   "id": "f8ab9af4-b55b-4b9e-b790-24cc1f54dfff",
   "metadata": {},
   "source": [
    "# while"
   ]
  },
  {
   "cell_type": "code",
   "execution_count": 17,
   "id": "b3184268-ffdb-40db-872d-9abfe0141cf4",
   "metadata": {},
   "outputs": [
    {
     "name": "stdin",
     "output_type": "stream",
     "text": [
      "enter which table you want 5\n",
      "enter number till you want 5\n"
     ]
    },
    {
     "name": "stdout",
     "output_type": "stream",
     "text": [
      "5*1=5\n",
      "5*2=10\n",
      "5*3=15\n",
      "5*4=20\n",
      "5*5=25\n"
     ]
    }
   ],
   "source": [
    "k=int(input('enter which table you want'))\n",
    "n=int(input(\"enter number till you want\"))\n",
    "i=1\n",
    "while(i<=n):\n",
    "    j=k*i\n",
    "    print(f'{k}*{i}={j}')\n",
    "    i=i+1"
   ]
  },
  {
   "cell_type": "code",
   "execution_count": 19,
   "id": "d9b155b2-c295-488e-9c81-906cac38fb7e",
   "metadata": {},
   "outputs": [],
   "source": [
    "#print factorial"
   ]
  },
  {
   "cell_type": "code",
   "execution_count": 1,
   "id": "00e791e6-4a37-48b6-bc83-f73088d3daa3",
   "metadata": {},
   "outputs": [
    {
     "name": "stdin",
     "output_type": "stream",
     "text": [
      "enter whose factorial you want 5\n"
     ]
    },
    {
     "name": "stdout",
     "output_type": "stream",
     "text": [
      "factorial: 5!=120\n"
     ]
    }
   ],
   "source": [
    "a=int(input(\"enter whose factorial you want\"))\n",
    "i=1\n",
    "f=1\n",
    "while (i<=a):\n",
    "    f=f*i\n",
    "    i=i+1\n",
    "\n",
    "print(f'factorial: {a}!={f}')"
   ]
  },
  {
   "cell_type": "raw",
   "id": "6a7ea037-92e1-4ca5-8069-9238c6546713",
   "metadata": {},
   "source": [
    "find even from 2 till user define"
   ]
  },
  {
   "cell_type": "code",
   "execution_count": 25,
   "id": "21390fe6-1ab6-4f56-9cd9-7592b4245598",
   "metadata": {},
   "outputs": [
    {
     "name": "stdin",
     "output_type": "stream",
     "text": [
      "enter till u want even numbers 7\n"
     ]
    },
    {
     "name": "stdout",
     "output_type": "stream",
     "text": [
      "even numbers:\n",
      "2\n",
      "4\n",
      "6\n"
     ]
    }
   ],
   "source": [
    "a=int(input('enter till u want even numbers'))\n",
    "i=0\n",
    "print('even numbers:')\n",
    "while (i<a):\n",
    "    i=i+2 \n",
    "    if(i<=a):\n",
    "        print(i)"
   ]
  },
  {
   "cell_type": "code",
   "execution_count": null,
   "id": "9ce01a8d-1f18-4763-b7c1-c7fb96065f2b",
   "metadata": {},
   "outputs": [],
   "source": []
  }
 ],
 "metadata": {
  "kernelspec": {
   "display_name": "Python [conda env:base] *",
   "language": "python",
   "name": "conda-base-py"
  },
  "language_info": {
   "codemirror_mode": {
    "name": "ipython",
    "version": 3
   },
   "file_extension": ".py",
   "mimetype": "text/x-python",
   "name": "python",
   "nbconvert_exporter": "python",
   "pygments_lexer": "ipython3",
   "version": "3.12.7"
  }
 },
 "nbformat": 4,
 "nbformat_minor": 5
}
