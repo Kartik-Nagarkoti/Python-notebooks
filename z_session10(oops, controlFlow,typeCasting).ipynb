{
 "cells": [
  {
   "cell_type": "code",
   "execution_count": 11,
   "id": "89bc5706-a7bd-431d-a34a-d68f8cf3a822",
   "metadata": {},
   "outputs": [],
   "source": [
    "#ENCAPSULATION\n",
    "#ACCESS MODIFIER- 1.private- accessed within class only (start with duble underscore i.e. __ )\n",
    "#                 2.public- default\n",
    "#                 3.protected - should be used only in derived class (start with single underscore (_))"
   ]
  },
  {
   "cell_type": "code",
   "execution_count": 11,
   "id": "88ae3a97-01b5-4012-95d3-3bd2c00ec64c",
   "metadata": {},
   "outputs": [],
   "source": [
    "#private\n",
    "class abc():\n",
    "    def __init__(self,name, salary):\n",
    "        self.name=name\n",
    "        self.__salary=salary\n",
    "    def __fun(self):\n",
    "        print(\"this is private fun.\")\n",
    "    def fun2(self):\n",
    "        print(f'salary of {self.name} is {self.__salary}')\n",
    "        self.__fun()"
   ]
  },
  {
   "cell_type": "code",
   "execution_count": 13,
   "id": "847d2d92-abb3-4d9a-9f10-f1a1e307eb98",
   "metadata": {},
   "outputs": [
    {
     "name": "stdout",
     "output_type": "stream",
     "text": [
      "kartik\n",
      "salary of kartik is 10000000\n",
      "this is private fun.\n"
     ]
    }
   ],
   "source": [
    "ob=abc(\"kartik\", 10000000)\n",
    "print(ob.name)\n",
    "#ob.salary - error cause private variables or functions can't be called outside class ,can be only used inside class\n",
    "ob.fun2()"
   ]
  },
  {
   "cell_type": "code",
   "execution_count": 92,
   "id": "790ed991-c173-4508-9dfc-2b40738b85ac",
   "metadata": {},
   "outputs": [],
   "source": [
    "#NOTE- PRIVATE OBJECTS CAN BE ACCESED OUTSIDE CLASS TOO USING dir() BUT SHOULD NOT BE DONE AS PYTHON IS ALL ABOUT FOLLOWING GOOD PRACTISE "
   ]
  },
  {
   "cell_type": "code",
   "execution_count": 94,
   "id": "ee2d60aa-f2ed-4aac-9e84-d9611dca9ac1",
   "metadata": {},
   "outputs": [
    {
     "data": {
      "text/plain": [
       "['__class__',\n",
       " '__delattr__',\n",
       " '__dict__',\n",
       " '__dir__',\n",
       " '__doc__',\n",
       " '__eq__',\n",
       " '__format__',\n",
       " '__ge__',\n",
       " '__getattribute__',\n",
       " '__getstate__',\n",
       " '__gt__',\n",
       " '__hash__',\n",
       " '__init__',\n",
       " '__init_subclass__',\n",
       " '__le__',\n",
       " '__lt__',\n",
       " '__module__',\n",
       " '__ne__',\n",
       " '__new__',\n",
       " '__reduce__',\n",
       " '__reduce_ex__',\n",
       " '__repr__',\n",
       " '__setattr__',\n",
       " '__sizeof__',\n",
       " '__str__',\n",
       " '__subclasshook__',\n",
       " '__weakref__',\n",
       " '_abc__fun',\n",
       " '_abc__salary',\n",
       " 'fun2',\n",
       " 'name']"
      ]
     },
     "execution_count": 94,
     "metadata": {},
     "output_type": "execute_result"
    }
   ],
   "source": [
    "dir(ob)"
   ]
  },
  {
   "cell_type": "code",
   "execution_count": 96,
   "id": "fec655a1-cf77-42ac-8ae4-48f9009490c7",
   "metadata": {},
   "outputs": [
    {
     "name": "stdout",
     "output_type": "stream",
     "text": [
      "this is private fun.\n",
      "10000000\n",
      "salary of kartik is 20000000\n",
      "this is private fun.\n"
     ]
    }
   ],
   "source": [
    "ob._abc__fun()\n",
    "print(ob._abc__salary)\n",
    "\n",
    "#can also modify value\n",
    "ob._abc__salary=20000000\n",
    "ob.fun2()"
   ]
  },
  {
   "cell_type": "code",
   "execution_count": 98,
   "id": "f133e297-5ed1-42b0-a1d3-3a83050ecb71",
   "metadata": {},
   "outputs": [],
   "source": [
    "#PROTECTED\n",
    "class abc():\n",
    "    def __init__(self,name, salary):\n",
    "        self.name=name\n",
    "        self._salary=salary\n",
    "    def _fun(self):\n",
    "        print(\"this is private fun.\")\n",
    "    def fun2(self):\n",
    "        print(f'salary of {self.name} is {self._salary}')\n",
    "        self._fun()"
   ]
  },
  {
   "cell_type": "code",
   "execution_count": 82,
   "id": "639f50f5-fb92-4249-ac8d-79d602afd6e7",
   "metadata": {},
   "outputs": [
    {
     "data": {
      "text/plain": [
       "500000"
      ]
     },
     "execution_count": 82,
     "metadata": {},
     "output_type": "execute_result"
    }
   ],
   "source": [
    "obj=abc(\"kk\",500000)\n",
    "obj._salary"
   ]
  },
  {
   "cell_type": "code",
   "execution_count": null,
   "id": "8a28a1cf-24ba-40c8-8b81-df0d8b40bf91",
   "metadata": {},
   "outputs": [],
   "source": [
    "#TYPE CASTING  -inplicit  \n",
    "#              -explicit- int,float,complex,boole,str,list,tuple,set,dict"
   ]
  },
  {
   "cell_type": "code",
   "execution_count": null,
   "id": "ca8eab04-6fe5-4920-b369-23d8deb314b9",
   "metadata": {},
   "outputs": [],
   "source": [
    "#casting to bool\n",
    "#values cosidered as false by bool-0,0.0,(),{},[],'',False\n",
    "#everything else is true"
   ]
  },
  {
   "cell_type": "code",
   "execution_count": 11,
   "id": "488bbd22-99e8-4617-8d32-18922339915c",
   "metadata": {},
   "outputs": [
    {
     "name": "stdout",
     "output_type": "stream",
     "text": [
      "False\n",
      "True\n",
      "False\n",
      "True\n",
      "False\n",
      "True\n"
     ]
    }
   ],
   "source": [
    "print(bool(''))\n",
    "print(bool('b'))\n",
    "print(bool())\n",
    "print(bool(0.0000002))\n",
    "print(bool(False))\n",
    "print(bool('F'))"
   ]
  },
  {
   "cell_type": "code",
   "execution_count": 19,
   "id": "4d55324d-81b9-4328-899b-c889f8b02410",
   "metadata": {},
   "outputs": [
    {
     "name": "stdout",
     "output_type": "stream",
     "text": [
      "(1, 2, 3)\n",
      "{1, 2, 3}\n"
     ]
    }
   ],
   "source": [
    "list=[1,2,3]\n",
    "print(tuple(list))\n",
    "print(set(list))"
   ]
  },
  {
   "cell_type": "code",
   "execution_count": 21,
   "id": "b2ef0830-59d1-4f0c-b175-c94083c39d01",
   "metadata": {},
   "outputs": [],
   "source": [
    "#TO CONVERT TO DICTIONARY-     1.DATA SHOULD BE ITERABLE.\n",
    "#                              2.EVERY INDEX SHOULD HAVE only and only 2 ELEMENTS."
   ]
  },
  {
   "cell_type": "code",
   "execution_count": 25,
   "id": "402fd85f-22d6-4c37-af7e-ea50407d3160",
   "metadata": {},
   "outputs": [
    {
     "name": "stdout",
     "output_type": "stream",
     "text": [
      "{'a': 1, 'b': 2, 'c': 3}\n"
     ]
    }
   ],
   "source": [
    "A=((\"a\",1),(\"b\",2),(\"c\",3))\n",
    "print(dict(A))"
   ]
  },
  {
   "cell_type": "code",
   "execution_count": 29,
   "id": "75aa09b0-e18a-43fd-b6f7-7c234fc583fa",
   "metadata": {},
   "outputs": [
    {
     "name": "stdout",
     "output_type": "stream",
     "text": [
      "{'a': (1, 3, 5, 7, 9, 11, 13, 15, 17), 'b': 2, 'c': 3}\n"
     ]
    }
   ],
   "source": [
    "Z=((\"a\",(1,3,5,7,9,11,13,15,17)),(\"b\",2),(\"c\",3))\n",
    "print(dict(Z))"
   ]
  },
  {
   "cell_type": "code",
   "execution_count": 33,
   "id": "8bf5ff7d-def6-4056-b1b6-1ece7a76a9dd",
   "metadata": {},
   "outputs": [],
   "source": [
    "#A=((\"a\",1,2),(\"b\",2),(\"c\",3))\n",
    "#print(dict(A))\n",
    "#error cause 1st element has 3 sub elements"
   ]
  },
  {
   "cell_type": "markdown",
   "id": "1a1b71c2-15ed-4181-b9ce-d1fe1d4c022b",
   "metadata": {},
   "source": [
    "# CONTROL FLOW STATEMENTS"
   ]
  },
  {
   "cell_type": "markdown",
   "id": "c34fe68d-ce75-4c3c-9124-4d620f2c8030",
   "metadata": {},
   "source": [
    "## BREAK\n",
    "USE TO BREAK LOOP PREMATURELY"
   ]
  },
  {
   "cell_type": "code",
   "execution_count": 5,
   "id": "2be98165-01eb-4376-b65f-95cfcf37c199",
   "metadata": {},
   "outputs": [
    {
     "name": "stdout",
     "output_type": "stream",
     "text": [
      "hello\n",
      "7\n"
     ]
    }
   ],
   "source": [
    "k=0\n",
    "for i in range(20):\n",
    "    k=k+1\n",
    "    if (i==6):\n",
    "        print(\"hello\")\n",
    "        break\n",
    "print(k) "
   ]
  },
  {
   "cell_type": "markdown",
   "id": "8716c7b3-f0b4-49a9-84c0-5bf4a319d53f",
   "metadata": {},
   "source": [
    "## continue\n",
    "Skip iteration when condition is true and continue for rest of the iteration"
   ]
  },
  {
   "cell_type": "code",
   "execution_count": 10,
   "id": "30faed36-68ee-4920-90ec-ae7cc9870599",
   "metadata": {},
   "outputs": [
    {
     "name": "stdout",
     "output_type": "stream",
     "text": [
      "1\n",
      "2\n",
      "4\n",
      "5\n"
     ]
    }
   ],
   "source": [
    "for i in range(1, 6):\n",
    "    if i == 3:\n",
    "        continue  # Skip iteration when i is 3\n",
    "    print(i)\n"
   ]
  },
  {
   "cell_type": "markdown",
   "id": "bec7a851-697e-49e9-8a0d-31e1a53ef1fd",
   "metadata": {},
   "source": [
    "## PASS\n",
    "-used to avoid sytax error\n",
    "-it provides nothing"
   ]
  },
  {
   "cell_type": "code",
   "execution_count": 3,
   "id": "1a7a5d3a-1296-48b9-97b8-98ff229b2b93",
   "metadata": {},
   "outputs": [
    {
     "name": "stdout",
     "output_type": "stream",
     "text": [
      "kartik\n"
     ]
    }
   ],
   "source": [
    "for i in range(3):\n",
    "    if (i==2):\n",
    "        print(\"kartik\")\n",
    "    else:\n",
    "        pass #if ifLoop codition is true then ok else nothing is done\n",
    "        "
   ]
  },
  {
   "cell_type": "code",
   "execution_count": null,
   "id": "52f3ed75-bd48-4a68-adb6-e9ce66c0bd24",
   "metadata": {},
   "outputs": [],
   "source": []
  },
  {
   "cell_type": "code",
   "execution_count": null,
   "id": "a4808d68-78c8-4cbb-96ee-d8205177dffb",
   "metadata": {},
   "outputs": [],
   "source": []
  },
  {
   "cell_type": "code",
   "execution_count": null,
   "id": "812bf9f4-4efa-4926-9ca8-18a0ee7621ef",
   "metadata": {},
   "outputs": [],
   "source": []
  },
  {
   "cell_type": "code",
   "execution_count": null,
   "id": "519b77c7-a01f-442b-bbe8-c6b0c6bfc1bf",
   "metadata": {},
   "outputs": [],
   "source": []
  },
  {
   "cell_type": "raw",
   "id": "abec2248-264e-4008-8092-77a2a74c45a9",
   "metadata": {},
   "source": [
    "Write a program to process a list of email addresses and find the blocklist emails {having domain @blocklist.com}, once the block list mail is found ,  show the mail, remove the mail from list and ask user if he want to  look for more blocklisted mails or not and if yes  then continue to find the block list mail else stop there.\n",
    "emails = [\n",
    "    \"john.doe@example.com\",\n",
    "    \"jane_doe@blocklist.com\",\n",
    "    \"bob.smith@domain.com\",\n",
    "    \"alice@\",\n",
    "    \"charlie@example.org\",\n",
    "    \"invalid-email.com\",\n",
    "    \"david@website.com\",\n",
    "    \"emily@subdomain.domain.com\",\n",
    "    \"gregory@company.co\",\n",
    "    \"franklin@blocklist.com\",\n",
    "    \"george@mydomain.net\",\n",
    "    \"helen@invalid@domain.com\",\n",
    "    \"isabella@domain.co.uk\",\n",
    "    \"jackson@anotherdomain.org\",\n",
    "    \"karen@webservice.com\",\n",
    "    \"leo@\",\n",
    "    \"matthew@site.com\",\n",
    "    \"natalie@domain.com\",\n",
    "    \"oliver@blocklist.com\",\n",
    "    \"peter@myemail.com\"\n",
    "]\n"
   ]
  },
  {
   "cell_type": "code",
   "execution_count": 55,
   "id": "0a2d3572-2e8b-436c-810d-7aa44f9f6ccc",
   "metadata": {},
   "outputs": [],
   "source": [
    "emails = [\n",
    "    \"john.doe@example.com\",\n",
    "    \"jane_doe@blocklist.com\",\n",
    "    \"bob.smith@domain.com\",\n",
    "    \"alice@\",\n",
    "    \"charlie@example.org\",\n",
    "    \"invalid-email.com\",\n",
    "    \"david@website.com\",\n",
    "    \"emily@subdomain.domain.com\",\n",
    "    \"gregory@company.co\",\n",
    "    \"franklin@blocklist.com\",\n",
    "    \"george@mydomain.net\",\n",
    "    \"helen@invalid@domain.com\",\n",
    "    \"isabella@domain.co.uk\",\n",
    "    \"jackson@anotherdomain.org\",\n",
    "    \"karen@webservice.com\",\n",
    "    \"leo@\",\n",
    "    \"matthew@site.com\",\n",
    "    \"natalie@domain.com\",\n",
    "    \"oliver@blocklist.com\",\n",
    "    \"peter@myemail.com\"\n",
    "]"
   ]
  },
  {
   "cell_type": "code",
   "execution_count": 53,
   "id": "92adf3f0-6522-4380-abc6-ad71fefb92aa",
   "metadata": {},
   "outputs": [
    {
     "name": "stdout",
     "output_type": "stream",
     "text": [
      "\n",
      "BLOCKED:\n",
      "jane_doe@blocklist.com\n",
      "franklin@blocklist.com\n",
      "oliver@blocklist.com\n",
      "\n",
      "LIST WITH UNBLOCKED USERS\n",
      "\n",
      "john.doe@example.com\n",
      "bob.smith@domain.com\n",
      "alice@\n",
      "charlie@example.org\n",
      "invalid-email.com\n",
      "david@website.com\n",
      "emily@subdomain.domain.com\n",
      "gregory@company.co\n",
      "george@mydomain.net\n",
      "helen@invalid@domain.com\n",
      "isabella@domain.co.uk\n",
      "jackson@anotherdomain.org\n",
      "karen@webservice.com\n",
      "leo@\n",
      "matthew@site.com\n",
      "natalie@domain.com\n",
      "peter@myemail.com\n"
     ]
    }
   ],
   "source": [
    "#MY TRY\n",
    "blocked=[]\n",
    "non_blocked=[]\n",
    "for i in range(len(emails)):\n",
    "    a=emails[i].find(\"@blocklist.com\")\n",
    "    if(a>=0):\n",
    "        blocked.append(emails[i])\n",
    "    else:\n",
    "        non_blocked.append(emails[i])\n",
    "\n",
    "#print(\"UNBLOCKED:\")\n",
    "#for j in non_blocked:\n",
    "#    print(j)\n",
    "print()\n",
    "print(\"BLOCKED:\")\n",
    "for k in blocked:\n",
    "    print(k)\n",
    "for k in blocked:\n",
    "    emails.remove(k)\n",
    "print()\n",
    "print(\"list with unblocked users\".upper())\n",
    "print()\n",
    "for l in emails:\n",
    "    print(l)\n"
   ]
  },
  {
   "cell_type": "code",
   "execution_count": 57,
   "id": "7099db4e-ba10-4067-aaf7-9d07d35b3882",
   "metadata": {},
   "outputs": [
    {
     "name": "stdout",
     "output_type": "stream",
     "text": [
      "blocked email: jane_doe@blocklist.com\n"
     ]
    },
    {
     "name": "stdin",
     "output_type": "stream",
     "text": [
      "do u want to find next blocked email? (y/n) y\n"
     ]
    },
    {
     "name": "stdout",
     "output_type": "stream",
     "text": [
      "blocked email: franklin@blocklist.com\n"
     ]
    },
    {
     "name": "stdin",
     "output_type": "stream",
     "text": [
      "do u want to find next blocked email? (y/n) y\n"
     ]
    },
    {
     "name": "stdout",
     "output_type": "stream",
     "text": [
      "blocked email: oliver@blocklist.com\n"
     ]
    },
    {
     "name": "stdin",
     "output_type": "stream",
     "text": [
      "do u want to find next blocked email? (y/n) n\n"
     ]
    },
    {
     "name": "stdout",
     "output_type": "stream",
     "text": [
      "\n",
      "remaining emails:\n",
      "john.doe@example.com\n",
      "bob.smith@domain.com\n",
      "alice@\n",
      "charlie@example.org\n",
      "invalid-email.com\n",
      "david@website.com\n",
      "emily@subdomain.domain.com\n",
      "gregory@company.co\n",
      "george@mydomain.net\n",
      "helen@invalid@domain.com\n",
      "isabella@domain.co.uk\n",
      "jackson@anotherdomain.org\n",
      "karen@webservice.com\n",
      "leo@\n",
      "matthew@site.com\n",
      "natalie@domain.com\n",
      "peter@myemail.com\n"
     ]
    }
   ],
   "source": [
    "for i in emails:\n",
    "    if \"@blocklist.com\" in i:\n",
    "        print(f\"blocked email: {i}\")\n",
    "        emails.remove(i)\n",
    "        while True:\n",
    "            c=str(input((\"do u want to find next blocked email? (y/n)\").lower()))\n",
    "            if c==\"n\":\n",
    "                break\n",
    "            elif c==\"y\":\n",
    "                break\n",
    "            else:\n",
    "                print(\"make correct choice\")\n",
    "        if c==\"n\":\n",
    "            break\n",
    "print()\n",
    "print(\"remaining emails:\")\n",
    "for i in emails:\n",
    "    print(i)"
   ]
  },
  {
   "cell_type": "code",
   "execution_count": 5,
   "id": "5001bf15-47cb-4eba-8c4c-ca9104498e1f",
   "metadata": {},
   "outputs": [
    {
     "name": "stdout",
     "output_type": "stream",
     "text": [
      "5th number is 4\n"
     ]
    }
   ],
   "source": [
    "for i in range(10):\n",
    "    if i==5:\n",
    "        print(f\"5th number is {i-1}\")"
   ]
  },
  {
   "cell_type": "code",
   "execution_count": null,
   "id": "0f1b5052-e3a6-4d0f-9e7e-9b1024aab3e4",
   "metadata": {},
   "outputs": [],
   "source": []
  }
 ],
 "metadata": {
  "kernelspec": {
   "display_name": "Python [conda env:base] *",
   "language": "python",
   "name": "conda-base-py"
  },
  "language_info": {
   "codemirror_mode": {
    "name": "ipython",
    "version": 3
   },
   "file_extension": ".py",
   "mimetype": "text/x-python",
   "name": "python",
   "nbconvert_exporter": "python",
   "pygments_lexer": "ipython3",
   "version": "3.12.7"
  }
 },
 "nbformat": 4,
 "nbformat_minor": 5
}
