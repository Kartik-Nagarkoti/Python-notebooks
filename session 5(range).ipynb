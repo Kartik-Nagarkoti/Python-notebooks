{
 "cells": [
  {
   "cell_type": "markdown",
   "id": "958df855-712f-47c1-8eaa-c8840f5616cb",
   "metadata": {},
   "source": [
    "# loop"
   ]
  },
  {
   "cell_type": "markdown",
   "id": "890334ea-ced0-4bf3-9649-ba3bee2e89c8",
   "metadata": {},
   "source": [
    "## for"
   ]
  },
  {
   "cell_type": "code",
   "execution_count": null,
   "id": "41b9bbe7-1f27-4817-9bc4-19f3953e6508",
   "metadata": {},
   "outputs": [],
   "source": []
  },
  {
   "cell_type": "code",
   "execution_count": null,
   "id": "af683a68-6b5e-49fa-834c-fa4f28afa963",
   "metadata": {},
   "outputs": [],
   "source": []
  },
  {
   "cell_type": "code",
   "execution_count": null,
   "id": "a7c62a15-1650-4ee9-bba6-3c326c67905a",
   "metadata": {},
   "outputs": [],
   "source": []
  },
  {
   "cell_type": "markdown",
   "id": "c0a462db-a64e-4efb-920b-e7e3678be11f",
   "metadata": {},
   "source": [
    "## range(start,end,jump)"
   ]
  },
  {
   "cell_type": "code",
   "execution_count": 28,
   "id": "3206dd53-234f-48d4-9bc1-3b551e059a42",
   "metadata": {},
   "outputs": [
    {
     "name": "stdout",
     "output_type": "stream",
     "text": [
      "0\n",
      "1\n",
      "2\n",
      "3\n",
      "4\n"
     ]
    }
   ],
   "source": [
    "for i in range(5):\n",
    "    print(i)"
   ]
  },
  {
   "cell_type": "code",
   "execution_count": 5,
   "id": "379cfb15-49e9-4eee-8cf6-34c2c961329d",
   "metadata": {},
   "outputs": [
    {
     "name": "stdout",
     "output_type": "stream",
     "text": [
      "7\n",
      "11\n",
      "15\n",
      "19\n",
      "23\n"
     ]
    }
   ],
   "source": [
    "for i in range(7,27,4):\n",
    "    print (i)"
   ]
  },
  {
   "cell_type": "code",
   "execution_count": 31,
   "id": "5f468b5d-f7d8-481d-a748-a2bf4db6164b",
   "metadata": {},
   "outputs": [
    {
     "name": "stdout",
     "output_type": "stream",
     "text": [
      "1\n",
      "76\n",
      "4\n"
     ]
    }
   ],
   "source": [
    "#list\n",
    "a=[1,34,56,76,54,32,4,5,6]\n",
    "for i in range(0, len(a), 3):\n",
    "    print(a[i])"
   ]
  },
  {
   "cell_type": "code",
   "execution_count": 27,
   "id": "8ff96222-d00a-4ae2-bb95-3885d88601aa",
   "metadata": {},
   "outputs": [
    {
     "data": {
      "text/plain": [
       "9"
      ]
     },
     "execution_count": 27,
     "metadata": {},
     "output_type": "execute_result"
    }
   ],
   "source": [
    "len(a)"
   ]
  },
  {
   "cell_type": "raw",
   "id": "279b815e-009c-4ce3-82aa-b0c1724eb561",
   "metadata": {},
   "source": [
    "Print all the odd numbers till n(asked from user)."
   ]
  },
  {
   "cell_type": "code",
   "execution_count": 43,
   "id": "135ccfe2-0d40-4408-a835-b2943533800f",
   "metadata": {},
   "outputs": [
    {
     "name": "stdin",
     "output_type": "stream",
     "text": [
      "enter till u want odd number 9\n"
     ]
    },
    {
     "name": "stdout",
     "output_type": "stream",
     "text": [
      "1\n",
      "3\n",
      "5\n",
      "7\n",
      "9\n"
     ]
    }
   ],
   "source": [
    "a=int(input('enter till u want odd number'))\n",
    "for i in range(1,a+1,2):\n",
    "    print(i)"
   ]
  },
  {
   "cell_type": "raw",
   "id": "42cee869-d293-4c62-b2c2-c7b6721be374",
   "metadata": {},
   "source": [
    "Print all the  even numbers in reverse order from 50-0."
   ]
  },
  {
   "cell_type": "code",
   "execution_count": 47,
   "id": "5c0cd25a-272e-4df3-848a-9d9b92d86ba2",
   "metadata": {},
   "outputs": [
    {
     "name": "stdout",
     "output_type": "stream",
     "text": [
      "50\n",
      "48\n",
      "46\n",
      "44\n",
      "42\n",
      "40\n",
      "38\n",
      "36\n",
      "34\n",
      "32\n",
      "30\n",
      "28\n",
      "26\n",
      "24\n",
      "22\n",
      "20\n",
      "18\n",
      "16\n",
      "14\n",
      "12\n",
      "10\n",
      "8\n",
      "6\n",
      "4\n",
      "2\n",
      "0\n"
     ]
    }
   ],
   "source": [
    "for i in range(50,-1,-2):\n",
    "    print(i)"
   ]
  },
  {
   "cell_type": "raw",
   "id": "6f1ba5b3-7dc3-4e98-8648-ddca45c86182",
   "metadata": {},
   "source": [
    "Print a series like 7,-11,15,-19……. Till 10th terms."
   ]
  },
  {
   "cell_type": "code",
   "execution_count": 59,
   "id": "f4fc67db-fb46-4338-b837-e66bffb3296c",
   "metadata": {},
   "outputs": [
    {
     "name": "stdout",
     "output_type": "stream",
     "text": [
      "7\n",
      "-11\n",
      "15\n",
      "-19\n",
      "23\n",
      "-27\n",
      "31\n",
      "-35\n",
      "39\n",
      "-43\n"
     ]
    }
   ],
   "source": [
    "#important \n",
    "k=1\n",
    "for i in range(7,44,4):\n",
    "    if(k%2==0):\n",
    "        print(i*(-1))\n",
    "    else:\n",
    "        print(i)\n",
    "    k=k+1"
   ]
  },
  {
   "cell_type": "raw",
   "id": "b1f74828-c002-426a-b47d-5110d9ce7b98",
   "metadata": {},
   "source": [
    "Print the Series 5,6,8,11,15,20 ……… till n terms."
   ]
  },
  {
   "cell_type": "code",
   "execution_count": 71,
   "id": "5c475474-a76f-4ae1-af37-4d247dce1a34",
   "metadata": {},
   "outputs": [
    {
     "name": "stdin",
     "output_type": "stream",
     "text": [
      "enter range u want series for 10\n"
     ]
    },
    {
     "name": "stdout",
     "output_type": "stream",
     "text": [
      "5 6 8 11 15 20 26 33 41 50 60 "
     ]
    }
   ],
   "source": [
    "a=int(input('enter range u want series for'))\n",
    "k=5\n",
    "for i in range(a+1):\n",
    "    k=k+i\n",
    "    print (k, end=' ')\n",
    "    \n",
    "    "
   ]
  },
  {
   "cell_type": "raw",
   "id": "ef1ea8d4-1ae9-48d0-9bea-7f1c7aa23ae2",
   "metadata": {},
   "source": [
    "Print fibonacci series.(0,1,1,2,3,5,8...)"
   ]
  },
  {
   "cell_type": "code",
   "execution_count": 9,
   "id": "31a4d84d-c94b-478c-9c47-ef3e5b351472",
   "metadata": {},
   "outputs": [
    {
     "name": "stdin",
     "output_type": "stream",
     "text": [
      "enter range 10\n"
     ]
    },
    {
     "name": "stdout",
     "output_type": "stream",
     "text": [
      "0  1  1  2  3  5  8  13  21  34  "
     ]
    }
   ],
   "source": [
    "r=int(input('enter range'))\n",
    "a=0\n",
    "b=1\n",
    "for i in range(r):\n",
    "    print(a, end=\"  \")\n",
    "    temp=a+b\n",
    "    a=b\n",
    "    b=temp\n",
    "   "
   ]
  },
  {
   "cell_type": "raw",
   "id": "28bbd3c3-fc24-42d7-89f0-984ee9803e5f",
   "metadata": {},
   "source": [
    "Print the sum of Series 2,22,222,2222,22222 till n terms.\n"
   ]
  },
  {
   "cell_type": "code",
   "execution_count": 13,
   "id": "a99c38f0-3286-4a34-80ca-9fd45ce6891b",
   "metadata": {},
   "outputs": [
    {
     "name": "stdin",
     "output_type": "stream",
     "text": [
      "enter range 10\n"
     ]
    },
    {
     "name": "stdout",
     "output_type": "stream",
     "text": [
      "2\n",
      "22\n",
      "222\n",
      "2222\n",
      "22222\n",
      "222222\n",
      "2222222\n",
      "22222222\n",
      "222222222\n",
      "2222222222\n"
     ]
    }
   ],
   "source": [
    "r=int(input(\"enter range\"))\n",
    "a=2\n",
    "for i in range(r):\n",
    "    print(a)\n",
    "    temp=a*10+2\n",
    "    a=temp\n",
    "    "
   ]
  },
  {
   "cell_type": "raw",
   "id": "c25100ea-0364-4e90-8c43-fc39c992b34f",
   "metadata": {},
   "source": [
    "Print the following pattern.\n",
    "1\n",
    "1 2\n",
    "1 2 3\n",
    "1 2 3 4\n",
    "1 2 3 4 5\n"
   ]
  },
  {
   "cell_type": "code",
   "execution_count": 7,
   "id": "b6926235-3ffe-493a-884c-b540b67ee6ad",
   "metadata": {},
   "outputs": [
    {
     "name": "stdin",
     "output_type": "stream",
     "text": [
      "enter number of row u want 5\n"
     ]
    },
    {
     "name": "stdout",
     "output_type": "stream",
     "text": [
      "1 \n",
      "1 2 \n",
      "1 2 3 \n",
      "1 2 3 4 \n",
      "1 2 3 4 5 \n"
     ]
    }
   ],
   "source": [
    "r=int(input('enter number of row u want'))\n",
    "for i in range(1,r+1):\n",
    "    for j in range(1,i+1):\n",
    "        print(j,end=\" \")\n",
    "    print()"
   ]
  },
  {
   "cell_type": "raw",
   "id": "b1817ad3-7f88-47cf-a543-b3c899ad1d0a",
   "metadata": {},
   "source": [
    "Print Pattern \n",
    "1\n",
    "2 2\n",
    "3 3 3 \n",
    "4 4 4  4\n",
    "5 5 5 5 5\n"
   ]
  },
  {
   "cell_type": "code",
   "execution_count": 3,
   "id": "498066ce-1d05-47af-8417-ada87be2c8c4",
   "metadata": {},
   "outputs": [
    {
     "name": "stdin",
     "output_type": "stream",
     "text": [
      "enter number of row u want 5\n"
     ]
    },
    {
     "name": "stdout",
     "output_type": "stream",
     "text": [
      "1 \n",
      "2 2 \n",
      "3 3 3 \n",
      "4 4 4 4 \n",
      "5 5 5 5 5 \n"
     ]
    }
   ],
   "source": [
    "r=int(input('enter number of row u want'))\n",
    "for i in range(1,r+1):\n",
    "    for j in range(i):\n",
    "        print (i, end=' ')\n",
    "    print()"
   ]
  },
  {
   "cell_type": "raw",
   "id": "caeab5cf-33e3-43c0-8a41-f7738190cc8b",
   "metadata": {},
   "source": [
    "print Pattern\n",
    "1\n",
    "1 2 1\n",
    "1 2 3 2 1 \n",
    "1 2 3 4 3 2 1\n",
    "1 2 3 4 5 4 3 2 1\n"
   ]
  },
  {
   "cell_type": "code",
   "execution_count": 1,
   "id": "3709ea42-d159-4474-a5ea-c31a9a6004ff",
   "metadata": {},
   "outputs": [
    {
     "name": "stdin",
     "output_type": "stream",
     "text": [
      "enter no. of rows 6\n"
     ]
    },
    {
     "name": "stdout",
     "output_type": "stream",
     "text": [
      "1 \n",
      "1 2 1 \n",
      "1 2 3 2 1 \n",
      "1 2 3 4 3 2 1 \n",
      "1 2 3 4 5 4 3 2 1 \n",
      "1 2 3 4 5 6 5 4 3 2 1 \n"
     ]
    }
   ],
   "source": [
    "r=int(input('enter no. of rows'))\n",
    "for i in  range(1,r+1):\n",
    "    for j in range(1,i+1):\n",
    "        print (j,end=\" \")\n",
    "        if(i==j):\n",
    "            for k in range(j-1,0,-1):\n",
    "                print(k, end=\" \")\n",
    "    print()  #if(i==j)"
   ]
  },
  {
   "cell_type": "code",
   "execution_count": null,
   "id": "df56c7fe-d55f-495b-80a6-6a43e0fca7fd",
   "metadata": {},
   "outputs": [],
   "source": []
  }
 ],
 "metadata": {
  "kernelspec": {
   "display_name": "Python [conda env:base] *",
   "language": "python",
   "name": "conda-base-py"
  },
  "language_info": {
   "codemirror_mode": {
    "name": "ipython",
    "version": 3
   },
   "file_extension": ".py",
   "mimetype": "text/x-python",
   "name": "python",
   "nbconvert_exporter": "python",
   "pygments_lexer": "ipython3",
   "version": "3.12.7"
  }
 },
 "nbformat": 4,
 "nbformat_minor": 5
}
