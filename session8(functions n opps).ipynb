{
 "cells": [
  {
   "cell_type": "markdown",
   "id": "9f094dc0-6557-4e1c-8eec-6acdb2c8c016",
   "metadata": {},
   "source": [
    "## lamda (var=lambda input(i.e.arg):expression)"
   ]
  },
  {
   "cell_type": "code",
   "execution_count": 4,
   "id": "aad19ab9-eea6-4565-b692-ee8d5fa7f31d",
   "metadata": {},
   "outputs": [],
   "source": [
    "#add 2 numbers\n",
    "addi=lambda x,y : x+y"
   ]
  },
  {
   "cell_type": "code",
   "execution_count": 8,
   "id": "60f0f764-3163-4f9d-abd3-a1fce8a38842",
   "metadata": {},
   "outputs": [
    {
     "name": "stdout",
     "output_type": "stream",
     "text": [
      "5\n"
     ]
    }
   ],
   "source": [
    "print(addi(2,3))"
   ]
  },
  {
   "cell_type": "code",
   "execution_count": 12,
   "id": "e55c1a2e-4ed4-4635-9600-5253d431f830",
   "metadata": {},
   "outputs": [],
   "source": [
    "#double \n",
    "dou=lambda x : x*2"
   ]
  },
  {
   "cell_type": "code",
   "execution_count": 18,
   "id": "4ba87d03-7c30-4b79-acd0-b51bb14bd188",
   "metadata": {},
   "outputs": [
    {
     "name": "stdout",
     "output_type": "stream",
     "text": [
      "8\n"
     ]
    }
   ],
   "source": [
    "print (dou (4))"
   ]
  },
  {
   "cell_type": "markdown",
   "id": "07423d7e-9ed5-4975-9234-0dee8c670c26",
   "metadata": {},
   "source": [
    "# OOPs"
   ]
  },
  {
   "cell_type": "code",
   "execution_count": 2,
   "id": "87a63f48-9975-4856-919b-589b68057799",
   "metadata": {},
   "outputs": [],
   "source": [
    "class sample():\n",
    "    c=5\n",
    "    d=3"
   ]
  },
  {
   "cell_type": "code",
   "execution_count": 4,
   "id": "5ef307ee-597b-4290-9b9d-a9af87a62065",
   "metadata": {},
   "outputs": [],
   "source": [
    "obj=sample()"
   ]
  },
  {
   "cell_type": "code",
   "execution_count": 8,
   "id": "927f52fe-5485-494e-8d9e-158e2c73b8a6",
   "metadata": {},
   "outputs": [
    {
     "name": "stdout",
     "output_type": "stream",
     "text": [
      "5\n"
     ]
    }
   ],
   "source": [
    "print(obj.c)"
   ]
  },
  {
   "cell_type": "markdown",
   "id": "20d70f1a-73b5-436a-bfe1-30a4524ad2ba",
   "metadata": {},
   "source": [
    "### constructor"
   ]
  },
  {
   "cell_type": "raw",
   "id": "f06b0d43-a8cc-40cd-ac95-d2f0e6a40f35",
   "metadata": {},
   "source": [
    "-> define with __init__"
   ]
  },
  {
   "cell_type": "code",
   "execution_count": 13,
   "id": "78c30c5d-65d4-46aa-a122-d950940dc021",
   "metadata": {},
   "outputs": [],
   "source": [
    "#whne we make OBJECT OF CLASS FUNCTION THAT HAS CONSTRUCTOR THEN OPERATION UNDER CONSTRUCTOR GETS EXECUTED AUTOMATICALLY\n",
    "class abc():\n",
    "    def __init__(self):\n",
    "        print(\"ABC\")"
   ]
  },
  {
   "cell_type": "code",
   "execution_count": 15,
   "id": "95bdea76-13b8-4181-8811-ac2ec51385d6",
   "metadata": {},
   "outputs": [
    {
     "name": "stdout",
     "output_type": "stream",
     "text": [
      "ABC\n"
     ]
    }
   ],
   "source": [
    "ob=abc()"
   ]
  },
  {
   "cell_type": "code",
   "execution_count": 17,
   "id": "597cfa36-36a0-48f9-9e34-d265a86b4b7a",
   "metadata": {},
   "outputs": [],
   "source": [
    "class society():\n",
    "    def __init__(self,housenum,kitchen,bathroom,lobby):\n",
    "        self.housenum=housenum\n",
    "        self.k=kitchen\n",
    "        self.b=bathroom\n",
    "        self.l=lobby"
   ]
  },
  {
   "cell_type": "code",
   "execution_count": 21,
   "id": "20b83e5c-7e4a-4ac5-a95d-cee2bd3b352f",
   "metadata": {},
   "outputs": [],
   "source": [
    "h1=society(1,2,3,2)\n",
    "h2=society(2,1,2,3)"
   ]
  },
  {
   "cell_type": "code",
   "execution_count": 29,
   "id": "c15138d6-43fc-40f2-b4b4-ac426ba53efe",
   "metadata": {},
   "outputs": [
    {
     "name": "stdout",
     "output_type": "stream",
     "text": [
      "2\n",
      "1\n"
     ]
    }
   ],
   "source": [
    "print(h1.k)\n",
    "print(h2.k)"
   ]
  },
  {
   "cell_type": "code",
   "execution_count": 11,
   "id": "25bd60cf-6e19-493d-b06f-1ebfc9347910",
   "metadata": {},
   "outputs": [],
   "source": [
    "#to perform OPERATIONS UNDER CLASS , IT IS TO BE CALLED VIA OBJECT\n",
    "class sam():\n",
    "    def fun1(s):\n",
    "        print(\"hello\")\n",
    "#ALWATYS USE SELF WITH MEMBERS INSIDE CLASS e.g. fun1(s)"
   ]
  },
  {
   "cell_type": "code",
   "execution_count": 17,
   "id": "3065e731-6a5d-4808-84db-df704989672e",
   "metadata": {},
   "outputs": [
    {
     "name": "stdout",
     "output_type": "stream",
     "text": [
      "hello\n"
     ]
    }
   ],
   "source": [
    "O1=sam()\n",
    "O1.fun1()"
   ]
  },
  {
   "cell_type": "raw",
   "id": "06b41580-fe51-4e61-aed3-8b7171a2a405",
   "metadata": {},
   "source": [
    "Key Rule to Remember 📝\n",
    "-Inside a method, always use self.variable_name (or s.variable_name) to access class attributes.\n",
    "-OR, you can use ClassName.variable_name."
   ]
  },
  {
   "cell_type": "code",
   "execution_count": 27,
   "id": "de866b5e-bcd9-4987-85b0-76b0835c19ed",
   "metadata": {},
   "outputs": [],
   "source": [
    "class c1():\n",
    "    a=10\n",
    "    def fun2(s):\n",
    "        print(a)\n",
    "        print(\"hello\")"
   ]
  },
  {
   "cell_type": "code",
   "execution_count": 29,
   "id": "dc3bc658-d8ab-41e4-9cfb-a7a451372f47",
   "metadata": {},
   "outputs": [
    {
     "ename": "NameError",
     "evalue": "name 'a' is not defined",
     "output_type": "error",
     "traceback": [
      "\u001b[1;31m---------------------------------------------------------------------------\u001b[0m",
      "\u001b[1;31mNameError\u001b[0m                                 Traceback (most recent call last)",
      "Cell \u001b[1;32mIn[29], line 2\u001b[0m\n\u001b[0;32m      1\u001b[0m O2\u001b[38;5;241m=\u001b[39mc1()\n\u001b[1;32m----> 2\u001b[0m O2\u001b[38;5;241m.\u001b[39mfun2()\n",
      "Cell \u001b[1;32mIn[27], line 4\u001b[0m, in \u001b[0;36mc1.fun2\u001b[1;34m(s)\u001b[0m\n\u001b[0;32m      3\u001b[0m \u001b[38;5;28;01mdef\u001b[39;00m \u001b[38;5;21mfun2\u001b[39m(s):\n\u001b[1;32m----> 4\u001b[0m     \u001b[38;5;28mprint\u001b[39m(a)\n\u001b[0;32m      5\u001b[0m     \u001b[38;5;28mprint\u001b[39m(\u001b[38;5;124m\"\u001b[39m\u001b[38;5;124mhello\u001b[39m\u001b[38;5;124m\"\u001b[39m)\n",
      "\u001b[1;31mNameError\u001b[0m: name 'a' is not defined"
     ]
    }
   ],
   "source": [
    "O2=c1()\n",
    "O2.fun2()"
   ]
  },
  {
   "cell_type": "code",
   "execution_count": 31,
   "id": "b3344197-a172-4882-a4a1-b41a93955279",
   "metadata": {},
   "outputs": [
    {
     "name": "stdout",
     "output_type": "stream",
     "text": [
      "10\n",
      "hello\n"
     ]
    }
   ],
   "source": [
    "class c1():\n",
    "    a=10\n",
    "    def fun2(s):\n",
    "        print(s.a)\n",
    "        print(\"hello\")\n",
    "O2=c1()\n",
    "O2.fun2()"
   ]
  },
  {
   "cell_type": "raw",
   "id": "37ac17bb-5c39-45a5-ae03-6c029a435f41",
   "metadata": {},
   "source": [
    "Inside fun2(), s.a means \"access variable 'a' from the instance obj(O2)\".\n",
    "Since obj(O2) belongs to class c1, it finds a = 10 and prints it."
   ]
  },
  {
   "cell_type": "code",
   "execution_count": null,
   "id": "4acb4c64-65be-4d4e-baa9-30d443a503fa",
   "metadata": {},
   "outputs": [],
   "source": []
  }
 ],
 "metadata": {
  "kernelspec": {
   "display_name": "Python [conda env:base] *",
   "language": "python",
   "name": "conda-base-py"
  },
  "language_info": {
   "codemirror_mode": {
    "name": "ipython",
    "version": 3
   },
   "file_extension": ".py",
   "mimetype": "text/x-python",
   "name": "python",
   "nbconvert_exporter": "python",
   "pygments_lexer": "ipython3",
   "version": "3.12.7"
  }
 },
 "nbformat": 4,
 "nbformat_minor": 5
}
