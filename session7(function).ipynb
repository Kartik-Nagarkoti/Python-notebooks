{
 "cells": [
  {
   "cell_type": "raw",
   "id": "40f3b76b-91bd-4316-adf0-1e0e46b224e5",
   "metadata": {},
   "source": [
    "Design and implement a dynamic attendance tracking system that records daily attendance for a group of students over a specified number of days. The system should:\n",
    "Allow for the input of student names and attendance records.\n",
    "Record attendance for each student on each day.\n",
    "Calculate each student's attendance percentage.\n",
    "Identify and display students whose attendance is below 75%.\n",
    "Calculate and display the overall class attendance percentage.\n"
   ]
  },
  {
   "cell_type": "code",
   "execution_count": 5,
   "id": "0b726129-bfcc-45be-8f88-59b8af6ead17",
   "metadata": {},
   "outputs": [
    {
     "name": "stdin",
     "output_type": "stream",
     "text": [
      "enter no. of students 3\n",
      "enter no. of days 4\n",
      "enter student name ss\n",
      "enter student name ww\n",
      "enter student name ss\n"
     ]
    },
    {
     "name": "stdout",
     "output_type": "stream",
     "text": [
      "enter attendence : a for absent and p for present\n"
     ]
    },
    {
     "name": "stdin",
     "output_type": "stream",
     "text": [
      "enter attendence for ss a a a a\n",
      "enter attendence for ww p a p p\n"
     ]
    },
    {
     "name": "stdout",
     "output_type": "stream",
     "text": [
      "{'ss': ['A', 'A', 'A', 'A'], 'ww': ['P', 'A', 'P', 'P']}\n",
      "pecentage for ss = 0.0%\n",
      "pecentage for ww = 75.0%\n",
      "\n",
      "students with below 75% : ['ss']\n"
     ]
    }
   ],
   "source": [
    "stu=int(input('enter no. of students'))\n",
    "days=int(input('enter no. of days'))\n",
    "students={}\n",
    "absent=[]\n",
    "for i in range(stu):\n",
    "    name=input('enter student name')\n",
    "    students[name]=[]\n",
    "print(\"enter attendence : a for absent and p for present\")\n",
    "for i in students:\n",
    "    while True:\n",
    "        attendence=input(f'enter attendence for {i}').upper()\n",
    "        if (len(attendence.split())==days):\n",
    "            students[i]=attendence.split()\n",
    "            break\n",
    "        else:\n",
    "            print()\n",
    "            print(f'enter only {days} days attendence')\n",
    "print(students)   \n",
    "a=0\n",
    "for i in students:\n",
    "    a=students[i].count('P')\n",
    "    p=(a/days)*100\n",
    "    print(f\"pecentage for {i} = {p}%\")\n",
    "    if(p<75):\n",
    "        absent.append(i)\n",
    "\n",
    "print()\n",
    "print(f'students with below 75% : {absent}')"
   ]
  },
  {
   "cell_type": "markdown",
   "id": "c6d3a946-c64f-44a3-9718-a35ee0df418b",
   "metadata": {},
   "source": [
    "## Function\n"
   ]
  },
  {
   "cell_type": "raw",
   "id": "a5ec240a-d6b2-4a2d-abb8-ffa1af5d96da",
   "metadata": {},
   "source": [
    "There is a dictionary. For the following dictionary , create a function where the user will input its name and will get userid and password as output and , if the user id is not listed , show the error message :- “No such user found.”\n",
    "          {\n",
    "    \"Aarav\": {\"userid\": \"aarav1\", \"password\": \"passwordA1\"},\n",
    "    \"Aisha\": {\"userid\": \"aisha2\", \"password\": \"passwordA2\"},\n",
    "    \"Arjun\": {\"userid\": \"arjun3\", \"password\": \"passwordA3\"},\n",
    "    \"Diya\": {\"userid\": \"diya4\", \"password\": \"passwordD4\"},\n",
    "    \"Ishaan\": {\"userid\": \"ishaan5\", \"password\": \"passwordI5\"},\n",
    "    \"Priya\": {\"userid\": \"priya6\", \"password\": \"passwordP6\"},\n",
    "    \"Ravi\": {\"userid\": \"ravi7\", \"password\": \"passwordR7\"},\n",
    "    \"Simran\": {\"userid\": \"simran8\", \"password\": \"passwordS8\"},\n",
    "    \"Vikram\": {\"userid\": \"vikram9\", \"password\": \"passwordV9\"},\n",
    "    \"Neha\": {\"userid\": \"neha10\", \"password\": \"passwordN10\"},\n",
    "    \"Rahul\": {\"userid\": \"rahul11\", \"password\": \"passwordR11\"},\n",
    "    \"Sneha\": {\"userid\": \"sneha12\", \"password\": \"passwordS12\"},\n",
    "    \"Karan\": {\"userid\": \"karan13\", \"password\": \"passwordK13\"},\n",
    "    \"Tanvi\": {\"userid\": \"tanvi14\", \"password\": \"passwordT14\"},\n",
    "    \"Manish\": {\"userid\": \"manish15\", \"password\": \"passwordM15\"},\n",
    "    \"Meera\": {\"userid\": \"meera16\", \"password\": \"passwordM16\"},\n",
    "    \"Ananya\": {\"userid\": \"ananya17\", \"password\": \"passwordA17\"},\n",
    "    \"Sandeep\": {\"userid\": \"sandeep18\", \"password\": \"passwordS18\"},\n",
    "    \"Kavya\": {\"userid\": \"kavya19\", \"password\": \"passwordK19\"},\n",
    "    \"Rani\": {\"userid\": \"rani20\", \"password\": \"passwordR20\"}\n",
    "                   }\n"
   ]
  },
  {
   "cell_type": "code",
   "execution_count": 2,
   "id": "d65806a5-c48e-4e44-9be7-d79f218fba1a",
   "metadata": {},
   "outputs": [],
   "source": [
    "info={\n",
    "    \"Aarav\": {\"userid\": \"aarav1\", \"password\": \"passwordA1\"},\n",
    "    \"Aisha\": {\"userid\": \"aisha2\", \"password\": \"passwordA2\"},\n",
    "    \"Arjun\": {\"userid\": \"arjun3\", \"password\": \"passwordA3\"},\n",
    "    \"Diya\": {\"userid\": \"diya4\", \"password\": \"passwordD4\"},\n",
    "    \"Ishaan\": {\"userid\": \"ishaan5\", \"password\": \"passwordI5\"},\n",
    "    \"Priya\": {\"userid\": \"priya6\", \"password\": \"passwordP6\"},\n",
    "    \"Ravi\": {\"userid\": \"ravi7\", \"password\": \"passwordR7\"},\n",
    "    \"Simran\": {\"userid\": \"simran8\", \"password\": \"passwordS8\"},\n",
    "    \"Vikram\": {\"userid\": \"vikram9\", \"password\": \"passwordV9\"},\n",
    "    \"Neha\": {\"userid\": \"neha10\", \"password\": \"passwordN10\"},\n",
    "    \"Rahul\": {\"userid\": \"rahul11\", \"password\": \"passwordR11\"},\n",
    "    \"Sneha\": {\"userid\": \"sneha12\", \"password\": \"passwordS12\"},\n",
    "    \"Karan\": {\"userid\": \"karan13\", \"password\": \"passwordK13\"},\n",
    "    \"Tanvi\": {\"userid\": \"tanvi14\", \"password\": \"passwordT14\"},\n",
    "    \"Manish\": {\"userid\": \"manish15\", \"password\": \"passwordM15\"},\n",
    "    \"Meera\": {\"userid\": \"meera16\", \"password\": \"passwordM16\"},\n",
    "    \"Ananya\": {\"userid\": \"ananya17\", \"password\": \"passwordA17\"},\n",
    "    \"Sandeep\": {\"userid\": \"sandeep18\", \"password\": \"passwordS18\"},\n",
    "    \"Kavya\": {\"userid\": \"kavya19\", \"password\": \"passwordK19\"},\n",
    "    \"Rani\": {\"userid\": \"rani20\", \"password\": \"passwordR20\"}\n",
    "                   }\n"
   ]
  },
  {
   "cell_type": "code",
   "execution_count": 11,
   "id": "9f40be4b-233f-4a1a-baf2-9e28419212e7",
   "metadata": {},
   "outputs": [],
   "source": [
    "#creating function\n",
    "def getid(name):\n",
    "    if name in info:\n",
    "        print(f\"userID = {info[name][\"userid\"]}\")\n",
    "        print(f\"pswd = {info[name][\"password\"]}\")\n",
    "    else:\n",
    "        print(\"No such user found.\")"
   ]
  },
  {
   "cell_type": "code",
   "execution_count": 27,
   "id": "cd8e8aa5-cc27-4124-bd9f-348830ce442e",
   "metadata": {},
   "outputs": [
    {
     "name": "stdin",
     "output_type": "stream",
     "text": [
      "enter user name Meera\n"
     ]
    },
    {
     "name": "stdout",
     "output_type": "stream",
     "text": [
      "userID = meera16\n",
      "pswd = passwordM16\n"
     ]
    }
   ],
   "source": [
    "#calling function\n",
    "name=input(\"enter user name\")\n",
    "getid(name)"
   ]
  },
  {
   "cell_type": "code",
   "execution_count": 21,
   "id": "39cba963-a613-4ae9-9053-674fb175517b",
   "metadata": {},
   "outputs": [
    {
     "name": "stdout",
     "output_type": "stream",
     "text": [
      "userID = rani20\n",
      "pswd = passwordR20\n"
     ]
    }
   ],
   "source": [
    "getid(\"Rani\")"
   ]
  },
  {
   "cell_type": "markdown",
   "id": "205cdb91-9974-40df-80af-5e39470a8dc7",
   "metadata": {},
   "source": [
    "## *args(argument)\n"
   ]
  },
  {
   "cell_type": "raw",
   "id": "ab7a7fb8-65a7-480f-8045-b88c9b242dab",
   "metadata": {},
   "source": [
    "-> allows to pass any number of argument\n",
    "-> args is temperary can use any word after * (eg *agg)\n",
    " *args is passed as a tuple"
   ]
  },
  {
   "cell_type": "code",
   "execution_count": 39,
   "id": "e5fea752-45de-4e73-a4b6-093496a53bcb",
   "metadata": {},
   "outputs": [],
   "source": [
    "def num(*args):\n",
    "    print(len(args))\n",
    "    #print(sum(*args)) : error as Using * again here means you're unpacking the tuple elements into individual arguments — but sum() expects 2 arg ,not multiple values.\n",
    "    return(sum(args))"
   ]
  },
  {
   "cell_type": "code",
   "execution_count": 41,
   "id": "8f47a08d-c634-4dc5-89a2-d0d84f79e08c",
   "metadata": {
    "scrolled": true
   },
   "outputs": [
    {
     "name": "stdout",
     "output_type": "stream",
     "text": [
      "3\n"
     ]
    },
    {
     "data": {
      "text/plain": [
       "10"
      ]
     },
     "execution_count": 41,
     "metadata": {},
     "output_type": "execute_result"
    }
   ],
   "source": [
    "num(4,3,3)"
   ]
  },
  {
   "cell_type": "raw",
   "id": "33bfed80-a82a-4b5c-b9c6-d7076d7de903",
   "metadata": {},
   "source": [
    "*args takes tuple as input but if not provided input it is needed to be UNPACKED.\n",
    "unpacking: means extracting values from a list, tuple, or any iterable and assigning them to variables in a single line.\n",
    "\n",
    "if inputs is given in form of list then *arg is to be used in defining function i.e. unpacking "
   ]
  },
  {
   "cell_type": "code",
   "execution_count": 50,
   "id": "8bc4341c-90ef-47a1-bc88-30ed7ce34369",
   "metadata": {},
   "outputs": [
    {
     "name": "stdout",
     "output_type": "stream",
     "text": [
      "10\n"
     ]
    }
   ],
   "source": [
    "def num(*args):\n",
    "    print(sum(*args)) # using *args and not args\n",
    "\n",
    "num([4,3,3]) #using list instead of tuple"
   ]
  },
  {
   "cell_type": "markdown",
   "id": "92501dd9-f647-4b15-9853-63404c328819",
   "metadata": {},
   "source": [
    "## **kargs(keyword argument)"
   ]
  },
  {
   "cell_type": "raw",
   "id": "e3818465-880f-46b0-b93c-5a38fcb39da5",
   "metadata": {},
   "source": [
    "-> passes key and value in form of dictionary"
   ]
  },
  {
   "cell_type": "code",
   "execution_count": 1,
   "id": "8dea51c1-5758-4949-9459-963cccc29f6f",
   "metadata": {},
   "outputs": [],
   "source": [
    "def fun1(**kargs):\n",
    "    for key,val in kargs.items(): #reads key and value\n",
    "        print(f\"{key}={val}\")"
   ]
  },
  {
   "cell_type": "code",
   "execution_count": 83,
   "id": "346ebc65-288c-4e66-90ce-53c3a6dc8863",
   "metadata": {},
   "outputs": [
    {
     "name": "stdout",
     "output_type": "stream",
     "text": [
      "name=kartik\n",
      "age=18\n",
      "role=manger\n"
     ]
    }
   ],
   "source": [
    "fun1(name=\"kartik\",age=18,role=\"manger\")"
   ]
  },
  {
   "cell_type": "code",
   "execution_count": null,
   "id": "ff0b3be1-c6f1-42d9-960c-f38d5d199df9",
   "metadata": {},
   "outputs": [],
   "source": []
  }
 ],
 "metadata": {
  "kernelspec": {
   "display_name": "Python [conda env:base] *",
   "language": "python",
   "name": "conda-base-py"
  },
  "language_info": {
   "codemirror_mode": {
    "name": "ipython",
    "version": 3
   },
   "file_extension": ".py",
   "mimetype": "text/x-python",
   "name": "python",
   "nbconvert_exporter": "python",
   "pygments_lexer": "ipython3",
   "version": "3.12.7"
  }
 },
 "nbformat": 4,
 "nbformat_minor": 5
}
