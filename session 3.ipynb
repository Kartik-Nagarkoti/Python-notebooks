{
 "cells": [
  {
   "cell_type": "markdown",
   "id": "92c4bc05-6c4a-4e94-96e2-6bc91e83299d",
   "metadata": {},
   "source": [
    "# SETS"
   ]
  },
  {
   "cell_type": "code",
   "execution_count": 3,
   "id": "d001a406-6c3d-4b65-b08e-1e8d62fb6370",
   "metadata": {},
   "outputs": [
    {
     "name": "stdout",
     "output_type": "stream",
     "text": [
      "{1, 2, 3, 4, 5, 6, 7, 9}\n",
      "<class 'set'>\n",
      "2438288700832\n"
     ]
    }
   ],
   "source": [
    "set={1,5,4,7,9,5,4,2,1,3,4,5,6,7,5,3,5} #arrange in ascending order and remove duplicate\n",
    "print(set)\n",
    "print(type(set))\n",
    "print(id(set))"
   ]
  },
  {
   "cell_type": "code",
   "execution_count": 5,
   "id": "99cfa8da-8c15-4e05-8a95-1a0e46710121",
   "metadata": {},
   "outputs": [
    {
     "name": "stdout",
     "output_type": "stream",
     "text": [
      "{1, 2, 3, 4, 5, 6, 7, 8, 9}\n"
     ]
    }
   ],
   "source": [
    "#add new element and in sorted form \n",
    "set.add(8)\n",
    "print(set)"
   ]
  },
  {
   "cell_type": "code",
   "execution_count": 9,
   "id": "deee8ca7-6124-4340-9470-f181b64432b4",
   "metadata": {},
   "outputs": [
    {
     "name": "stdout",
     "output_type": "stream",
     "text": [
      "{1, 2, 4, 5, 6, 7, 8, 9}\n"
     ]
    }
   ],
   "source": [
    "#remove an element\n",
    "set.remove(3)\n",
    "print (set)"
   ]
  },
  {
   "cell_type": "code",
   "execution_count": 23,
   "id": "704f536c-0ce4-4c35-8070-d4008afcc22c",
   "metadata": {},
   "outputs": [
    {
     "name": "stdout",
     "output_type": "stream",
     "text": [
      "union:{2, 3, 4, 5, 6, 8, 9, 10, 11, 21, 23}\n",
      "intersection:{3, 6, 8, 9, 21}\n",
      "intersection:set()\n",
      "remaining:{2, 11, 5, 23}\n",
      "remaining:{10, 4}\n",
      "remaining:{2, 3, 5, 6, 8, 9, 11, 21, 23}\n"
     ]
    }
   ],
   "source": [
    "#set theory\n",
    "set1={3,5,8,6,2,9,11,23,21}\n",
    "set2={4,6,10,3,8,9,21}\n",
    "set3={1,78,99}\n",
    "print(f'union:{set1.union(set2)}')\n",
    "print(f'intersection:{set1&set2}')\n",
    "print(f'intersection:{set1&set3}')\n",
    "print(f'remaining:{set1-set2}')\n",
    "print(f'remaining:{set2-set1}')\n",
    "print(f'remaining:{set1-set3}')"
   ]
  },
  {
   "cell_type": "markdown",
   "id": "c1c3a70f-a559-44bf-92ed-71b99452ac13",
   "metadata": {},
   "source": [
    "# Tuple"
   ]
  },
  {
   "cell_type": "code",
   "execution_count": 5,
   "id": "c6c16ecf-ce07-4c83-82d7-dbf5e00a9d4c",
   "metadata": {},
   "outputs": [
    {
     "name": "stdout",
     "output_type": "stream",
     "text": [
      "(1, 3, 5, 2, 4, 8, 7, 7)\n",
      "(1, 'kartik', 5, 8)\n"
     ]
    }
   ],
   "source": [
    "t=(1,3,5,2,4,8,7,7)\n",
    "#can write without brackets troo\n",
    "t2=1,'kartik',5,8\n",
    "print(t)\n",
    "print(t2)"
   ]
  },
  {
   "cell_type": "code",
   "execution_count": 11,
   "id": "ec353c5a-8570-48eb-818a-1f66c6c3280d",
   "metadata": {},
   "outputs": [
    {
     "name": "stdout",
     "output_type": "stream",
     "text": [
      "kartik\n",
      "(1, 3, 5)\n"
     ]
    }
   ],
   "source": [
    "#can call by index\n",
    "print(t2[1])\n",
    "#slicing\n",
    "print(t[0:3])"
   ]
  },
  {
   "cell_type": "code",
   "execution_count": 9,
   "id": "7ff566bd-79b9-4e20-97e8-2e66166ec10b",
   "metadata": {},
   "outputs": [
    {
     "ename": "TypeError",
     "evalue": "'tuple' object does not support item assignment",
     "output_type": "error",
     "traceback": [
      "\u001b[1;31m---------------------------------------------------------------------------\u001b[0m",
      "\u001b[1;31mTypeError\u001b[0m                                 Traceback (most recent call last)",
      "Cell \u001b[1;32mIn[9], line 2\u001b[0m\n\u001b[0;32m      1\u001b[0m \u001b[38;5;66;03m#can't modify\u001b[39;00m\n\u001b[1;32m----> 2\u001b[0m t[\u001b[38;5;241m3\u001b[39m]\u001b[38;5;241m=\u001b[39m\u001b[38;5;241m5\u001b[39m\n\u001b[0;32m      3\u001b[0m \u001b[38;5;28mprint\u001b[39m(t)\n",
      "\u001b[1;31mTypeError\u001b[0m: 'tuple' object does not support item assignment"
     ]
    }
   ],
   "source": [
    "#can't modify\n",
    "t[3]=5\n",
    "print(t)"
   ]
  },
  {
   "cell_type": "markdown",
   "id": "52e59dc3-6a2a-4dce-b1f7-6d1dcd7ef2a1",
   "metadata": {},
   "source": [
    "# coditional statements"
   ]
  },
  {
   "cell_type": "raw",
   "id": "58a14f3e-0c41-411f-92e7-3c14661265f9",
   "metadata": {},
   "source": [
    "write a program that suggest activities based on the users age:\n",
    "if the age is less than 18 suggest \"you are eligible for kids activity\"\n",
    "for ages 18 to 60 check gender:\n",
    "if male suggest \"you can participate in sports event \"\n",
    "if females suggest \"you can join yoga and dance classes\"\n",
    "for age above 60 suggest \"you can participate in senior citizen activities\""
   ]
  },
  {
   "cell_type": "code",
   "execution_count": 92,
   "id": "8bedebd5-4af9-4dbf-bb70-de2b1692f2a0",
   "metadata": {},
   "outputs": [
    {
     "name": "stdin",
     "output_type": "stream",
     "text": [
      "enter your age 65\n"
     ]
    },
    {
     "name": "stdout",
     "output_type": "stream",
     "text": [
      "you can participate in senior citizen activities\n"
     ]
    }
   ],
   "source": [
    "age=int(input(\"enter your age\"))\n",
    "if age<18 :\n",
    "    print('you are eligible for kids activities')\n",
    "elif (age>=18 and age<=60):    \n",
    "    gender=str(input('enter your gender(M/F)'))\n",
    "    if (gender =='m' or gender== 'M'):\n",
    "        print('you can participate in sports event ')\n",
    "    elif (gender =='f' or gender== 'F'):\n",
    "        print('you can join yoga and dance classes ')\n",
    "    else:\n",
    "        print('invalid input')\n",
    "\n",
    "else :\n",
    "    print('you can participate in senior citizen activities')"
   ]
  },
  {
   "cell_type": "markdown",
   "id": "1d6ed342-1258-418e-a937-254088bdd820",
   "metadata": {},
   "source": [
    "# Assignment"
   ]
  },
  {
   "cell_type": "raw",
   "id": "2b74daae-43ad-48a8-99f0-1a44f4d8ac26",
   "metadata": {},
   "source": [
    "Develop a program that takes the temperature (in Celsius) as input and classifies it based on the following criteria: temperatures below 0°C should be labeled as \"Extreme Cold,\" temperatures between 0°C and 20°C as \"Cold,\" temperatures between 20°C and 30°C as \"Moderate,\" and temperatures above 30°C as \"Hot.\" If the temperature exceeds 45°C, the program should display an additional warning, \"Heatwave Alert!\"\n"
   ]
  },
  {
   "cell_type": "code",
   "execution_count": 147,
   "id": "091f247c-2f73-43c7-8ba8-e873b818b26c",
   "metadata": {},
   "outputs": [
    {
     "name": "stdin",
     "output_type": "stream",
     "text": [
      "enter temperature in celcious 45.000001\n"
     ]
    },
    {
     "name": "stdout",
     "output_type": "stream",
     "text": [
      "Heatwave Alert!\n"
     ]
    }
   ],
   "source": [
    "temp=float(input('enter temperature in celcious'))\n",
    "if temp<0:\n",
    "    print(\"extreme cold\")\n",
    "elif temp>=0 and temp<20:\n",
    "    print(\"cold\")\n",
    "elif temp>=20 and temp<=30:\n",
    "    print('moderate')\n",
    "elif temp>30 and temp<=45:\n",
    "    print(\"hot\")\n",
    "else:\n",
    "    print(\"Heatwave Alert!\")\n",
    "          "
   ]
  },
  {
   "cell_type": "raw",
   "id": "e8c61d4a-0703-49b0-b239-0b85a8bec723",
   "metadata": {},
   "source": [
    "Write a program that takes the user's age and nationality as input. If the user is at least 18 years old and their nationality is \"Indian,\" print \"Eligible to vote.\" If the user is younger than 18, calculate and display the number of years left until they reach voting age. If the user's nationality is not \"Indian,\" print \"Not eligible to vote in India.\" Ensure the program handles invalid inputs gracefully.\n"
   ]
  },
  {
   "cell_type": "code",
   "execution_count": 143,
   "id": "fce40a7c-61f5-4be7-8da9-8a5244a93b29",
   "metadata": {},
   "outputs": [
    {
     "name": "stdin",
     "output_type": "stream",
     "text": [
      "enter age 9\n",
      "enter nationality indian\n"
     ]
    },
    {
     "name": "stdout",
     "output_type": "stream",
     "text": [
      "You will be eligible to vote after 9 years\n"
     ]
    }
   ],
   "source": [
    "age=int(input(\"enter age\"))\n",
    "n=str(input(\"enter nationality\"))\n",
    "if (age>=18 )and (n=='indian' or n==\"Indian\"):\n",
    "    print(\"eligible to vote\")\n",
    "elif (age>=18 )and (n!='indian' or n!=\"Indian\"):\n",
    "    print(\"Not eligible to vote in India\")\n",
    "elif age<18:\n",
    "    a=18-age\n",
    "    print(f'You will be eligible to vote after {a} years')\n"
   ]
  },
  {
   "cell_type": "raw",
   "id": "888a1e34-ad64-4233-9083-42075062c722",
   "metadata": {},
   "source": [
    "Write a program to calculate an electricity bill based on the number of units consumed, using the following slab rates:\n",
    "*₹5 per unit for the first 100 units.\n",
    "*₹7 per unit for the next 200 units (101 to 300 units).\n",
    "*₹10 per unit for any units above 300.\n",
    "*If the total bill exceeds ₹5,000, add a 10% surcharge to the total bill.\n",
    "\n",
    "For example:If units consumed = 700, the bill is calculated as:\n",
    "Total bill=\n",
    "(5×100)+(7×200)+(10×400\n",
    "If this bill exceeds ₹5,000, add a 10% surcharge to the total amount.\n"
   ]
  },
  {
   "cell_type": "code",
   "execution_count": 9,
   "id": "8e289c89-a7d4-4973-b3a4-baaf86e8be1a",
   "metadata": {},
   "outputs": [
    {
     "name": "stdin",
     "output_type": "stream",
     "text": [
      "enter units 700\n"
     ]
    },
    {
     "name": "stdout",
     "output_type": "stream",
     "text": [
      "6490.0\n"
     ]
    }
   ],
   "source": [
    "unit=int(input('enter units'))\n",
    "if unit<0:\n",
    "    print(\"enter valid units\")\n",
    "else:\n",
    "    \n",
    "    if unit<=100:\n",
    "        bill=unit*5\n",
    "    elif unit>100 and unit<=300:\n",
    "        bill=5*100+7*(unit-100)\n",
    "    else :\n",
    "        bill=5*100+7*200+10*(unit-300)\n",
    "    if bill > 5000:\n",
    "        bill=bill+0.1*bill\n",
    "print( bill)"
   ]
  },
  {
   "cell_type": "markdown",
   "id": "cd4e1012-fc61-4fa0-916c-c62f1446bb2e",
   "metadata": {},
   "source": [
    "# important\n"
   ]
  },
  {
   "cell_type": "raw",
   "id": "4780f787-4097-4374-88cb-e5cdec1faa1b",
   "metadata": {},
   "source": [
    "Create a program that takes an integer as input and classifies it based on specific properties. If the number is a perfect square and even, display \"Perfect Square & Even.\" , if the number is  perfect square and odd , display “perfect square and odd.”, if the number is not  a  perfect square print “Not a perfect Square”. Incorporate checks to handle edge cases like negative numbers or zero."
   ]
  },
  {
   "cell_type": "code",
   "execution_count": null,
   "id": "aa761615-92bc-4280-a714-ebd78edb3ef7",
   "metadata": {},
   "outputs": [],
   "source": [
    "a=int(input(\"enter a number\"))\n",
    "if a<0:\n",
    "    print(\"negatives can not be perfect square\")\n",
    "elif a>0:\n",
    "    s=float(pow(a,0.5))\n",
    "    if s.is_integer() and a%2==0: #check if s is input\n",
    "        print(\"Perfect Square & Even.\")\n",
    "    elif s.is_integer() and a%2!=0:\n",
    "        print(\"Perfect Square & odd.\")\n",
    "    elif not s.is_integer() :\n",
    "        print(\"not a perfect square\")"
   ]
  },
  {
   "cell_type": "raw",
   "id": "bd90d560-25e4-49ce-89aa-91612e2bb8c8",
   "metadata": {},
   "source": [
    "\n",
    "A retail store wants to implement a discount system to enhance customer satisfaction and loyalty. The discount varies based on the type of customer (Regular, Premium, VIP) and the total purchase amount. The system must determine the applicable discount and calculate the final price after applying the discount.\n",
    "Here the cashier will enter the customer type and purchase amount and ,  you should show in output  [ cx type , amount purchased , discount applicable , final amount]\n",
    "\n",
    "Discount will be given based on the following conditions.\n",
    "Conditions:\n",
    "Regular Customers:\n",
    "No discount for purchases below $100.\n",
    "5% discount for purchases between $100 and $500 (inclusive).\n",
    "10% discount for purchases above $500.\n",
    "Premium Customers:\n",
    "10% discount for purchases below $500.\n",
    "15% discount for purchases above $500.\n",
    "VIP Customers:\n",
    "20% discount for purchases below $1000.\n",
    "30% discount for purchases above $1000.\n"
   ]
  },
  {
   "cell_type": "code",
   "execution_count": 5,
   "id": "16547f09-bc6b-4f52-8467-797de42ac062",
   "metadata": {},
   "outputs": [
    {
     "name": "stdin",
     "output_type": "stream",
     "text": [
      "customer type vip\n",
      "amount purchased 900\n"
     ]
    },
    {
     "name": "stdout",
     "output_type": "stream",
     "text": [
      "20% discount\n",
      "total=720.0\n"
     ]
    }
   ],
   "source": [
    "c=str(input(\"customer type\"))\n",
    "a=int(input(\"amount purchased\"))\n",
    "if c=='regular customer':\n",
    "    if a<100:\n",
    "        print(\"no discount\")\n",
    "        t=a\n",
    "        print(f'total={t}')\n",
    "    elif 500>=a>=100 :\n",
    "        print(\"5% discount\")\n",
    "        t=a-0.05*a\n",
    "        print(f'total={t}')\n",
    "    elif a>500:\n",
    "        print(\"10% discount\")\n",
    "        t=a-0.1*a\n",
    "        print(f'total={t}')\n",
    "elif c=='premium':\n",
    "    if a<500:\n",
    "        print(\"10% discount\")\n",
    "        t=a-0.1*a\n",
    "        print(f'total={t}')\n",
    "    elif a>500:\n",
    "        print(\"15% discount\")\n",
    "        t=a-.15*a\n",
    "        print(f'total={t}')\n",
    "elif c==\"vip\":\n",
    "    if a<1000:\n",
    "        print(\"20% discount\")\n",
    "        t=a-0.2*a\n",
    "        print(f'total={t}')\n",
    "    elif a>1000:\n",
    "        print(\"30% discount\")\n",
    "        t=a-0.3*a\n",
    "        print(f'total={t}')\n",
    "        "
   ]
  },
  {
   "cell_type": "code",
   "execution_count": null,
   "id": "56104068-d5da-4c2b-8f23-786b276f3f8a",
   "metadata": {},
   "outputs": [],
   "source": []
  }
 ],
 "metadata": {
  "kernelspec": {
   "display_name": "Python [conda env:base] *",
   "language": "python",
   "name": "conda-base-py"
  },
  "language_info": {
   "codemirror_mode": {
    "name": "ipython",
    "version": 3
   },
   "file_extension": ".py",
   "mimetype": "text/x-python",
   "name": "python",
   "nbconvert_exporter": "python",
   "pygments_lexer": "ipython3",
   "version": "3.12.7"
  }
 },
 "nbformat": 4,
 "nbformat_minor": 5
}
