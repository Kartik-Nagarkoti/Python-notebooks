{
 "cells": [
  {
   "cell_type": "raw",
   "id": "c36420df-f95d-4558-aabf-0cedb5ceebac",
   "metadata": {},
   "source": [
    "Write a program to find all palindrome numbers between 100 and 500 and print sum.\n"
   ]
  },
  {
   "cell_type": "code",
   "execution_count": 24,
   "id": "d9031e7e-101e-4fe2-acfa-397f5fbd0b86",
   "metadata": {},
   "outputs": [
    {
     "name": "stdout",
     "output_type": "stream",
     "text": [
      "101,111,121,131,141,151,161,171,181,191,202,212,222,232,242,252,262,272,282,292,303,313,323,333,343,353,363,373,383,393,404,414,424,434,444,454,464,474,484,494,\n",
      "sum= 11900\n"
     ]
    }
   ],
   "source": [
    "sum=0\n",
    "for i in range(100,501):\n",
    "    a=str(i)\n",
    "    b=a[::-1]\n",
    "    if a==b:\n",
    "        sum=sum+i\n",
    "        print(i,end=',')\n",
    "print()\n",
    "print('sum=',sum)"
   ]
  },
  {
   "cell_type": "raw",
   "id": "61c57f32-0e05-4745-85eb-5f33a863ce0f",
   "metadata": {},
   "source": [
    "Write a Python program that Takes a positive integer n as input and  Calculates the sum of all even numbers and the sum of all odd numbers from 1 to n using a loop.  Prints both sums"
   ]
  },
  {
   "cell_type": "code",
   "execution_count": 38,
   "id": "a111d8f4-8969-400b-8f78-037d1efdda7b",
   "metadata": {},
   "outputs": [
    {
     "name": "stdin",
     "output_type": "stream",
     "text": [
      "enter range 10\n"
     ]
    },
    {
     "name": "stdout",
     "output_type": "stream",
     "text": [
      "sum of even=  30\n",
      "sum of odd=  25\n"
     ]
    }
   ],
   "source": [
    "o=0\n",
    "e=0\n",
    "n=int(input('enter range'))\n",
    "if(n<0):\n",
    "    print('enter positive number')\n",
    "else:      \n",
    "    for i in range(1,n+1):\n",
    "        if(i%2==0):\n",
    "            e=e+i\n",
    "        else:\n",
    "            o=o+i\n",
    "    print('sum of even= ',e)\n",
    "    print('sum of odd= ',o)\n",
    "    \n"
   ]
  },
  {
   "cell_type": "raw",
   "id": "ed728c99-dc5c-4e27-a0a5-aea4d2acccb1",
   "metadata": {},
   "source": [
    "Ask the user , how many numbers he wants to have , then create a loop to enter that many numbers and then maximum  the numbers entered.\n"
   ]
  },
  {
   "cell_type": "code",
   "execution_count": 17,
   "id": "0ee97cb8-8531-4278-a1cc-88aa7bf440ad",
   "metadata": {},
   "outputs": [
    {
     "name": "stdin",
     "output_type": "stream",
     "text": [
      "enter the total numbers you want to enter 4\n",
      "enter 1 element: 54\n",
      "enter 2 element: 87\n",
      "enter 3 element: 32\n",
      "enter 4 element: 65\n"
     ]
    },
    {
     "name": "stdout",
     "output_type": "stream",
     "text": [
      "[54, 87, 32, 65]\n",
      "max number:  87\n"
     ]
    }
   ],
   "source": [
    "n=int(input('enter the total numbers you want to enter'))\n",
    "list=[]\n",
    "for i in range(1,n+1):\n",
    "    i=int(input(f'enter {i} element:'))\n",
    "    list.append(i)\n",
    "print(list)\n",
    "max=0\n",
    "for a in list:\n",
    "    if(a>max):\n",
    "        max=a\n",
    "print('max number: ',max)\n"
   ]
  },
  {
   "cell_type": "raw",
   "id": "699b3a85-10e9-4071-a5b3-23447e3b35e1",
   "metadata": {},
   "source": [
    "A warehouse stores inventory in the following structure:\n",
    "inventory = {\n",
    "    'ProductA': {'Quantity': 150, 'PricePerUnit': 50},\n",
    "    'ProductB': {'Quantity': 100, 'PricePerUnit': 30},\n",
    "    'ProductC': {'Quantity': 200, 'PricePerUnit': 20}\n",
    "}\n",
    "\n",
    "Tasks:\n",
    "a. Write a program to calculate the total value of each product in the inventory (Quantity × PricePerUnit).\n",
    "b. If the quantity of any product falls below 130, print a message: \"Reorder ProductX\".\n",
    "c. Add a new product to the inventory dynamically based on user input.\n",
    "d.to delete product\")\n",
    "E. to view current list\n",
    "F. to Exitt"
   ]
  },
  {
   "cell_type": "code",
   "execution_count": 5,
   "id": "44e2b00b-7813-46a2-9b3b-66c3b2dbd3fc",
   "metadata": {},
   "outputs": [],
   "source": [
    "inventory = {\n",
    "    'ProductA': {'Quantity': 150, 'PricePerUnit': 50},\n",
    "    'ProductB': {'Quantity': 100, 'PricePerUnit': 30},\n",
    "    'ProductC': {'Quantity': 200, 'PricePerUnit': 20}\n",
    "}"
   ]
  },
  {
   "cell_type": "code",
   "execution_count": 7,
   "id": "f326e92e-7d7d-4acf-971b-1c81429a0ede",
   "metadata": {},
   "outputs": [
    {
     "name": "stdout",
     "output_type": "stream",
     "text": [
      "\n",
      "choose from these options:\n",
      "******************************\n",
      "Press A: to check total value of each product\n",
      "Press B: to check product to be reorder\n",
      "Press C: to add new product to inventory\n",
      "Press D: to delete product\n",
      "Press E: to view current list\n",
      "Press F: to Exitt\n"
     ]
    },
    {
     "name": "stdin",
     "output_type": "stream",
     "text": [
      "enter your choice a\n"
     ]
    },
    {
     "name": "stdout",
     "output_type": "stream",
     "text": [
      "ProductA :-\n",
      "      Quantity: 150\n",
      "      Price Per Unit: 50\n",
      "      Total value: 7500\n",
      "\n",
      "ProductB :-\n",
      "      Quantity: 100\n",
      "      Price Per Unit: 30\n",
      "      Total value: 3000\n",
      "\n",
      "ProductC :-\n",
      "      Quantity: 200\n",
      "      Price Per Unit: 20\n",
      "      Total value: 4000\n",
      "\n",
      "\n",
      "choose from these options:\n",
      "******************************\n",
      "Press A: to check total value of each product\n",
      "Press B: to check product to be reorder\n",
      "Press C: to add new product to inventory\n",
      "Press D: to delete product\n",
      "Press E: to view current list\n",
      "Press F: to Exitt\n"
     ]
    },
    {
     "name": "stdin",
     "output_type": "stream",
     "text": [
      "enter your choice b\n"
     ]
    },
    {
     "name": "stdout",
     "output_type": "stream",
     "text": [
      "Reorder ProductB\n",
      "\n",
      "choose from these options:\n",
      "******************************\n",
      "Press A: to check total value of each product\n",
      "Press B: to check product to be reorder\n",
      "Press C: to add new product to inventory\n",
      "Press D: to delete product\n",
      "Press E: to view current list\n",
      "Press F: to Exitt\n"
     ]
    },
    {
     "name": "stdin",
     "output_type": "stream",
     "text": [
      "enter your choice c\n",
      "enter product name product d\n",
      "enter product quantity 180\n",
      "enter product's price per unit 200\n"
     ]
    },
    {
     "name": "stdout",
     "output_type": "stream",
     "text": [
      "Inventory is updated!!!\n",
      "\n",
      "choose from these options:\n",
      "******************************\n",
      "Press A: to check total value of each product\n",
      "Press B: to check product to be reorder\n",
      "Press C: to add new product to inventory\n",
      "Press D: to delete product\n",
      "Press E: to view current list\n",
      "Press F: to Exitt\n"
     ]
    },
    {
     "name": "stdin",
     "output_type": "stream",
     "text": [
      "enter your choice e\n"
     ]
    },
    {
     "name": "stdout",
     "output_type": "stream",
     "text": [
      "current list is:\n",
      "{'ProductA': {'Quantity': 150, 'PricePerUnit': 50}, 'ProductB': {'Quantity': 100, 'PricePerUnit': 30}, 'ProductC': {'Quantity': 200, 'PricePerUnit': 20}, 'product d': {'Quantity': 180, 'PricePerUnit': 200}}\n",
      "\n",
      "choose from these options:\n",
      "******************************\n",
      "Press A: to check total value of each product\n",
      "Press B: to check product to be reorder\n",
      "Press C: to add new product to inventory\n",
      "Press D: to delete product\n",
      "Press E: to view current list\n",
      "Press F: to Exitt\n"
     ]
    },
    {
     "name": "stdin",
     "output_type": "stream",
     "text": [
      "enter your choice d\n"
     ]
    },
    {
     "name": "stdout",
     "output_type": "stream",
     "text": [
      "ProductA\n",
      "ProductB\n",
      "ProductC\n",
      "product d\n"
     ]
    },
    {
     "name": "stdin",
     "output_type": "stream",
     "text": [
      "enter product u want to delete product d\n"
     ]
    },
    {
     "name": "stdout",
     "output_type": "stream",
     "text": [
      "Removed successfully\n",
      "\n",
      "choose from these options:\n",
      "******************************\n",
      "Press A: to check total value of each product\n",
      "Press B: to check product to be reorder\n",
      "Press C: to add new product to inventory\n",
      "Press D: to delete product\n",
      "Press E: to view current list\n",
      "Press F: to Exitt\n"
     ]
    },
    {
     "name": "stdin",
     "output_type": "stream",
     "text": [
      "enter your choice e\n"
     ]
    },
    {
     "name": "stdout",
     "output_type": "stream",
     "text": [
      "current list is:\n",
      "{'ProductA': {'Quantity': 150, 'PricePerUnit': 50}, 'ProductB': {'Quantity': 100, 'PricePerUnit': 30}, 'ProductC': {'Quantity': 200, 'PricePerUnit': 20}}\n",
      "\n",
      "choose from these options:\n",
      "******************************\n",
      "Press A: to check total value of each product\n",
      "Press B: to check product to be reorder\n",
      "Press C: to add new product to inventory\n",
      "Press D: to delete product\n",
      "Press E: to view current list\n",
      "Press F: to Exitt\n"
     ]
    },
    {
     "name": "stdin",
     "output_type": "stream",
     "text": [
      "enter your choice f\n"
     ]
    },
    {
     "name": "stdout",
     "output_type": "stream",
     "text": [
      "Exited!!!\n"
     ]
    }
   ],
   "source": [
    "y=1\n",
    "while(y==1):\n",
    "    print()\n",
    "    print('choose from these options:')\n",
    "    print(\"******************************\")\n",
    "    print(\"Press A: to check total value of each product\")\n",
    "    print(\"Press B: to check product to be reorder\")\n",
    "    print(\"Press C: to add new product to inventory\")\n",
    "    print(\"Press D: to delete product\")\n",
    "    print(\"Press E: to view current list\")\n",
    "    print(\"Press F: to Exitt\")\n",
    "    x=1\n",
    "    while(x==1):\n",
    "        c=str(input('enter your choice').strip().upper())\n",
    "        if len(c)!= 1 or not c.isalpha():\n",
    "            print(\"invalid input\")\n",
    "        else:\n",
    "            x=0   \n",
    "    if c==\"A\":\n",
    "        for i in inventory:\n",
    "            print(i,':-')\n",
    "            print(f'      Quantity: {inventory[i]['Quantity']}')\n",
    "            print(f'      Price Per Unit: {inventory[i]['PricePerUnit']}')\n",
    "            total=inventory[i]['Quantity']*inventory[i]['PricePerUnit']\n",
    "            print(f'      Total value: {total}')\n",
    "            print()\n",
    "    elif c==\"B\":\n",
    "        for i in inventory:\n",
    "            if inventory[i]['Quantity']<130:\n",
    "                print(f'Reorder {i}')\n",
    "    elif c==\"C\":\n",
    "        name=input('enter product name')\n",
    "        q=int(input('enter product quantity'))\n",
    "        p=int(input(\"enter product's price per unit\")) \n",
    "        #update dictionary\n",
    "        inventory[name]={'Quantity': q,'PricePerUnit' : p}\n",
    "        print ('Inventory is updated!!!')\n",
    "    elif c==\"D\":\n",
    "        for i in inventory:\n",
    "            print(i)\n",
    "        d=input('enter product u want to delete')\n",
    "        if d in inventory:\n",
    "            inventory.pop(d)\n",
    "            print(\"Removed successfully\")\n",
    "        else:\n",
    "            print(\"product not found\")\n",
    "        \n",
    "    elif c==\"E\":\n",
    "        print(\"current list is:\")\n",
    "        print(inventory)\n",
    "    elif c==\"F\":\n",
    "        y=0\n",
    "        print(\"Exited!!!\")\n",
    "    else:\n",
    "        print('make a valid choice')\n",
    "    "
   ]
  },
  {
   "cell_type": "raw",
   "id": "228ae034-7321-405b-98a3-134b4fc4d4c3",
   "metadata": {},
   "source": [
    "You are given transaction data with amounts and status:\n",
    "     transactions = [\n",
    "    {'TransactionID': 1, 'Amount': 100, 'Status': 'Success'},\n",
    "    {'TransactionID': 2, 'Amount': 1500, 'Status': 'Failed'},\n",
    "    {'TransactionID': 3, 'Amount': 2000, 'Status': 'Success'},\n",
    "    {'TransactionID': 4, 'Amount': 50, 'Status': 'Pending'}\n",
    "      ]\n",
    "Tasks:\n",
    "a. Write a program to filter only successful transactions and calculate their total amount.\n",
    "b. Identify if any transaction amount exceeds $1000 and mark it as \"High Value\".\n"
   ]
  },
  {
   "cell_type": "code",
   "execution_count": 67,
   "id": "9f8aef0c-ef0f-4537-9307-3514d11f4497",
   "metadata": {},
   "outputs": [],
   "source": [
    "transactions = [\n",
    "    {'TransactionID': 1, 'Amount': 100, 'Status': 'Success'},\n",
    "    {'TransactionID': 2, 'Amount': 1500, 'Status': 'Failed'},\n",
    "    {'TransactionID': 3, 'Amount': 2000, 'Status': 'Success'},\n",
    "    {'TransactionID': 4, 'Amount': 50, 'Status': 'Pending'}\n",
    "      ]#dictionary in list"
   ]
  },
  {
   "cell_type": "code",
   "execution_count": 114,
   "id": "1fee68b5-132c-4dd4-a0d0-4ebd4d40e58c",
   "metadata": {},
   "outputs": [
    {
     "name": "stdout",
     "output_type": "stream",
     "text": [
      "TransactionID: 1 is successful\n",
      "TransactionID: 3 is successful\n",
      "total success:  2\n",
      "TransactionID: 2 has high value\n",
      "TransactionID: 3 has high value\n"
     ]
    }
   ],
   "source": [
    "s=0\n",
    "for i in transactions:\n",
    "    if i['Status']=='Success':\n",
    "        s=s+1\n",
    "        print(f'TransactionID: {i['TransactionID']} is successful')\n",
    "print('total success: ',s)\n",
    "for i in transactions:\n",
    "    if i['Amount'] > 1000:\n",
    "        print(f'TransactionID: {i['TransactionID']} has high value')\n"
   ]
  },
  {
   "cell_type": "code",
   "execution_count": null,
   "id": "2f1ba3b4-d980-4c8c-b6b9-21232d5fedde",
   "metadata": {},
   "outputs": [],
   "source": []
  },
  {
   "cell_type": "code",
   "execution_count": null,
   "id": "bd2ba53d-64af-498e-994f-6c518053efc3",
   "metadata": {},
   "outputs": [],
   "source": []
  },
  {
   "cell_type": "code",
   "execution_count": null,
   "id": "e982afa8-93e5-44f6-a624-2b8098a12e64",
   "metadata": {},
   "outputs": [],
   "source": []
  },
  {
   "cell_type": "code",
   "execution_count": null,
   "id": "65bb5366-63f2-4ca8-b129-2200291cc612",
   "metadata": {},
   "outputs": [],
   "source": []
  },
  {
   "cell_type": "code",
   "execution_count": null,
   "id": "4135852d-58aa-4de6-ae47-483d2432b9b9",
   "metadata": {},
   "outputs": [],
   "source": []
  },
  {
   "cell_type": "code",
   "execution_count": null,
   "id": "7a0bdc5d-bb5a-4d5e-bf0c-4c0527d7d159",
   "metadata": {},
   "outputs": [],
   "source": []
  }
 ],
 "metadata": {
  "kernelspec": {
   "display_name": "Python [conda env:base] *",
   "language": "python",
   "name": "conda-base-py"
  },
  "language_info": {
   "codemirror_mode": {
    "name": "ipython",
    "version": 3
   },
   "file_extension": ".py",
   "mimetype": "text/x-python",
   "name": "python",
   "nbconvert_exporter": "python",
   "pygments_lexer": "ipython3",
   "version": "3.12.7"
  }
 },
 "nbformat": 4,
 "nbformat_minor": 5
}
