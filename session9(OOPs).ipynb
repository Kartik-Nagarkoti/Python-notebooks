{
 "cells": [
  {
   "cell_type": "raw",
   "id": "a374352a-0237-4e27-8813-3ea20b3a1073",
   "metadata": {},
   "source": [
    "Create a BankAccount class with the following attributes and methods:\n",
    "Attributes: account_number, account_holder, balance\n",
    "Methods:\n",
    "deposit(amount) - Increases the balance by the given amount.\n",
    "withdraw(amount) - Decreases the balance by the given amount if sufficient funds are available, otherwise print an error message.\n",
    "display_balance() - Displays the current balance."
   ]
  },
  {
   "cell_type": "code",
   "execution_count": null,
   "id": "65fb73fb-7c38-4bed-8674-5105825d911f",
   "metadata": {},
   "outputs": [],
   "source": [
    "class bankaccount():\n",
    "    def __init__(self,an,ah,bal):\n",
    "        self.an=an\n",
    "        self.ah=ah\n",
    "        self.bal=bal\n",
    "    def deposit(self,amount): \n",
    "        amount=self.bal+amount\n",
    "        self.bal=amount\n",
    "    def withdraw(self,amount2):\n",
    "        if(amount2<=self.bal):\n",
    "            amount2=self.bal-amount2\n",
    "            self.bal=amount2\n",
    "        else:\n",
    "            print(\"insufficient balance\")\n",
    "        \n",
    "    def display_balance(self):\n",
    "        print(f\"current: {self.bal}\")\n",
    "        \n",
    "obj=bankaccount(2233,\"kk\",100)\n",
    "obj.deposit(300)\n",
    "obj.withdraw(1000)\n",
    "obj.display_balance()"
   ]
  },
  {
   "cell_type": "markdown",
   "id": "a4a63f6f-658b-4ca2-a460-7816ec865af3",
   "metadata": {},
   "source": [
    "# Principles of OPPs "
   ]
  },
  {
   "cell_type": "markdown",
   "id": "5410f37d-80f2-4478-a2b1-37bf5e79ea6a",
   "metadata": {},
   "source": [
    "### polymorphism"
   ]
  },
  {
   "cell_type": "raw",
   "id": "48b1949a-d131-4830-a00a-9537105211b7",
   "metadata": {},
   "source": [
    "- no overloading but can overwrite(apply to both fuctions and constructor)"
   ]
  },
  {
   "cell_type": "code",
   "execution_count": 80,
   "id": "245aabee-c49d-43ce-9cfe-6f7290920983",
   "metadata": {},
   "outputs": [
    {
     "name": "stdout",
     "output_type": "stream",
     "text": [
      "10\n"
     ]
    }
   ],
   "source": [
    "class c2():\n",
    "    def fun1(self,a,b):\n",
    "        print(a+b)\n",
    "    def fun1(self,a,b,c):\n",
    "        print(a+b+c)\n",
    "\n",
    "o=c2()\n",
    "o.fun1(6,3,1)\n",
    "#o.fun1(6,3)   shows error\n"
   ]
  },
  {
   "cell_type": "markdown",
   "id": "4ed01c1f-11f1-42d9-91be-7c06cb347faf",
   "metadata": {},
   "source": [
    "### inheritance"
   ]
  },
  {
   "cell_type": "raw",
   "id": "0d9bd4dd-14e0-49c1-b93d-5215748492b7",
   "metadata": {},
   "source": [
    "-connects parent with child class"
   ]
  },
  {
   "cell_type": "code",
   "execution_count": 87,
   "id": "435e88f3-1172-42d3-9041-25302e02ab83",
   "metadata": {},
   "outputs": [
    {
     "name": "stdout",
     "output_type": "stream",
     "text": [
      "it has four wheels\n",
      "use for transportation\n"
     ]
    }
   ],
   "source": [
    "#single inheritance\n",
    "class fourwheeler():\n",
    "    def fun2(self):\n",
    "        print(\"it has four wheels\")\n",
    "class truck(fourwheeler):\n",
    "    def fun3(self):\n",
    "        print(\"use for transportation\")\n",
    "\n",
    "o1=truck()\n",
    "o1.fun2() # can call function of parent class fourwheeler using child class truck\n",
    "o1.fun3 "
   ]
  },
  {
   "cell_type": "code",
   "execution_count": null,
   "id": "8cd3553b-e566-42bf-8ffa-d6db514aa9f1",
   "metadata": {},
   "outputs": [],
   "source": [
    "#Multiple inheritance         :  single child class with more than one parent class\n",
    "#multi-level                  :  a class is derived from another class which in turn is derived from some paarent class\n",
    "#Hierarchical Inheritance     :   Multiple child classes inherit from a single parent class.  \n",
    "\n"
   ]
  }
 ],
 "metadata": {
  "kernelspec": {
   "display_name": "Python [conda env:base] *",
   "language": "python",
   "name": "conda-base-py"
  },
  "language_info": {
   "codemirror_mode": {
    "name": "ipython",
    "version": 3
   },
   "file_extension": ".py",
   "mimetype": "text/x-python",
   "name": "python",
   "nbconvert_exporter": "python",
   "pygments_lexer": "ipython3",
   "version": "3.12.7"
  }
 },
 "nbformat": 4,
 "nbformat_minor": 5
}
